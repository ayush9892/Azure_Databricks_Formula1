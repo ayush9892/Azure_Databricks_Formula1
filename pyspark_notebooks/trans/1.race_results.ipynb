{
 "cells": [
  {
   "cell_type": "markdown",
   "metadata": {
    "application/vnd.databricks.v1+cell": {
     "cellMetadata": {
      "byteLimit": 2048000,
      "rowLimit": 10000
     },
     "inputWidgets": {},
     "nuid": "2a3c7448-0f32-4eac-8df6-ada85d4f7de8",
     "showTitle": false,
     "title": ""
    }
   },
   "source": [
    "##### Step 1 - Run \"configuration\" Notebook"
   ]
  },
  {
   "cell_type": "code",
   "execution_count": 0,
   "metadata": {
    "application/vnd.databricks.v1+cell": {
     "cellMetadata": {
      "byteLimit": 2048000,
      "rowLimit": 10000
     },
     "inputWidgets": {},
     "nuid": "9aa5bc8c-ef08-426c-8905-1e85df2a399b",
     "showTitle": false,
     "title": ""
    }
   },
   "outputs": [],
   "source": [
    "%run \"../includes/configuration\""
   ]
  },
  {
   "cell_type": "code",
   "execution_count": 0,
   "metadata": {
    "application/vnd.databricks.v1+cell": {
     "cellMetadata": {
      "byteLimit": 2048000,
      "rowLimit": 10000
     },
     "inputWidgets": {},
     "nuid": "0c154481-0524-4783-bf28-e34935c0300d",
     "showTitle": false,
     "title": ""
    }
   },
   "outputs": [],
   "source": [
    "%run \"../includes/common_functions\""
   ]
  },
  {
   "cell_type": "code",
   "execution_count": 0,
   "metadata": {
    "application/vnd.databricks.v1+cell": {
     "cellMetadata": {
      "byteLimit": 2048000,
      "rowLimit": 10000
     },
     "inputWidgets": {},
     "nuid": "53eca215-73cc-486b-ab32-a4c646c80e16",
     "showTitle": false,
     "title": ""
    }
   },
   "outputs": [],
   "source": [
    "dbutils.widgets.text(\"p_file_date\", \"2021-04-18\")\n",
    "v_file_date = dbutils.widgets.get(\"p_file_date\")"
   ]
  },
  {
   "cell_type": "markdown",
   "metadata": {
    "application/vnd.databricks.v1+cell": {
     "cellMetadata": {
      "byteLimit": 2048000,
      "rowLimit": 10000
     },
     "inputWidgets": {},
     "nuid": "10fb4330-7ec7-4d69-a350-be9d34b6fc93",
     "showTitle": false,
     "title": ""
    }
   },
   "source": [
    "##### Step 2 - Read required files using Dataframe and rename fields as required"
   ]
  },
  {
   "cell_type": "code",
   "execution_count": 0,
   "metadata": {
    "application/vnd.databricks.v1+cell": {
     "cellMetadata": {
      "byteLimit": 2048000,
      "rowLimit": 10000
     },
     "inputWidgets": {},
     "nuid": "27dd82ca-e0a6-477a-9887-7a63f7be721c",
     "showTitle": false,
     "title": ""
    }
   },
   "outputs": [],
   "source": [
    "races_df = spark.read.format(\"delta\").load(f\"{processed_folder_path}/races\") \\\n",
    "    .withColumnRenamed(\"name\", \"race_name\") \\\n",
    "    .withColumnRenamed(\"race_timestamp\", \"race_date\")"
   ]
  },
  {
   "cell_type": "code",
   "execution_count": 0,
   "metadata": {
    "application/vnd.databricks.v1+cell": {
     "cellMetadata": {
      "byteLimit": 2048000,
      "rowLimit": 10000
     },
     "inputWidgets": {},
     "nuid": "a017cbbd-b8fc-4eef-b52d-6319d2041f00",
     "showTitle": false,
     "title": ""
    }
   },
   "outputs": [
    {
     "output_type": "display_data",
     "data": {
      "text/html": [
       "<style scoped>\n",
       "  .table-result-container {\n",
       "    max-height: 300px;\n",
       "    overflow: auto;\n",
       "  }\n",
       "  table, th, td {\n",
       "    border: 1px solid black;\n",
       "    border-collapse: collapse;\n",
       "  }\n",
       "  th, td {\n",
       "    padding: 5px;\n",
       "  }\n",
       "  th {\n",
       "    text-align: left;\n",
       "  }\n",
       "</style><div class='table-result-container'><table class='table-result'><thead style='background-color: white'><tr><th>race_id</th><th>race_year</th><th>round</th><th>circuit_id</th><th>race_name</th><th>race_date</th><th>ingestion_date</th><th>data_source</th><th>file_date</th></tr></thead><tbody><tr><td>1</td><td>2009</td><td>1</td><td>1</td><td>Australian Grand Prix</td><td>2009-03-29T06:00:00Z</td><td>2023-12-22T11:00:50.106Z</td><td>Ergast</td><td>2021-04-18</td></tr><tr><td>2</td><td>2009</td><td>2</td><td>2</td><td>Malaysian Grand Prix</td><td>2009-04-05T09:00:00Z</td><td>2023-12-22T11:00:50.106Z</td><td>Ergast</td><td>2021-04-18</td></tr><tr><td>3</td><td>2009</td><td>3</td><td>17</td><td>Chinese Grand Prix</td><td>2009-04-19T07:00:00Z</td><td>2023-12-22T11:00:50.106Z</td><td>Ergast</td><td>2021-04-18</td></tr><tr><td>4</td><td>2009</td><td>4</td><td>3</td><td>Bahrain Grand Prix</td><td>2009-04-26T12:00:00Z</td><td>2023-12-22T11:00:50.106Z</td><td>Ergast</td><td>2021-04-18</td></tr><tr><td>5</td><td>2009</td><td>5</td><td>4</td><td>Spanish Grand Prix</td><td>2009-05-10T12:00:00Z</td><td>2023-12-22T11:00:50.106Z</td><td>Ergast</td><td>2021-04-18</td></tr></tbody></table></div>"
      ]
     },
     "metadata": {
      "application/vnd.databricks.v1+output": {
       "addedWidgets": {},
       "aggData": [],
       "aggError": "",
       "aggOverflow": false,
       "aggSchema": [],
       "aggSeriesLimitReached": false,
       "aggType": "",
       "arguments": {},
       "columnCustomDisplayInfos": {},
       "data": [
        [
         1,
         2009,
         1,
         1,
         "Australian Grand Prix",
         "2009-03-29T06:00:00Z",
         "2023-12-22T11:00:50.106Z",
         "Ergast",
         "2021-04-18"
        ],
        [
         2,
         2009,
         2,
         2,
         "Malaysian Grand Prix",
         "2009-04-05T09:00:00Z",
         "2023-12-22T11:00:50.106Z",
         "Ergast",
         "2021-04-18"
        ],
        [
         3,
         2009,
         3,
         17,
         "Chinese Grand Prix",
         "2009-04-19T07:00:00Z",
         "2023-12-22T11:00:50.106Z",
         "Ergast",
         "2021-04-18"
        ],
        [
         4,
         2009,
         4,
         3,
         "Bahrain Grand Prix",
         "2009-04-26T12:00:00Z",
         "2023-12-22T11:00:50.106Z",
         "Ergast",
         "2021-04-18"
        ],
        [
         5,
         2009,
         5,
         4,
         "Spanish Grand Prix",
         "2009-05-10T12:00:00Z",
         "2023-12-22T11:00:50.106Z",
         "Ergast",
         "2021-04-18"
        ]
       ],
       "datasetInfos": [],
       "dbfsResultPath": null,
       "isJsonSchema": true,
       "metadata": {},
       "overflow": false,
       "plotOptions": {
        "customPlotOptions": {},
        "displayType": "table",
        "pivotAggregation": null,
        "pivotColumns": null,
        "xColumns": null,
        "yColumns": null
       },
       "removedWidgets": [],
       "schema": [
        {
         "metadata": "{}",
         "name": "race_id",
         "type": "\"integer\""
        },
        {
         "metadata": "{}",
         "name": "race_year",
         "type": "\"integer\""
        },
        {
         "metadata": "{}",
         "name": "round",
         "type": "\"integer\""
        },
        {
         "metadata": "{}",
         "name": "circuit_id",
         "type": "\"integer\""
        },
        {
         "metadata": "{}",
         "name": "race_name",
         "type": "\"string\""
        },
        {
         "metadata": "{}",
         "name": "race_date",
         "type": "\"timestamp\""
        },
        {
         "metadata": "{}",
         "name": "ingestion_date",
         "type": "\"timestamp\""
        },
        {
         "metadata": "{}",
         "name": "data_source",
         "type": "\"string\""
        },
        {
         "metadata": "{}",
         "name": "file_date",
         "type": "\"string\""
        }
       ],
       "type": "table"
      }
     },
     "output_type": "display_data"
    }
   ],
   "source": [
    "# display(races_df.limit(5))"
   ]
  },
  {
   "cell_type": "code",
   "execution_count": 0,
   "metadata": {
    "application/vnd.databricks.v1+cell": {
     "cellMetadata": {
      "byteLimit": 2048000,
      "rowLimit": 10000
     },
     "inputWidgets": {},
     "nuid": "2b5d1b44-7410-4eaa-b306-953ffe6a3561",
     "showTitle": false,
     "title": ""
    }
   },
   "outputs": [],
   "source": [
    "circuits_df = spark.read.format(\"delta\").load(f\"{processed_folder_path}/circuits\") \\\n",
    "    .withColumnRenamed(\"location\", \"circuit_location\")"
   ]
  },
  {
   "cell_type": "code",
   "execution_count": 0,
   "metadata": {
    "application/vnd.databricks.v1+cell": {
     "cellMetadata": {
      "byteLimit": 2048000,
      "rowLimit": 10000
     },
     "inputWidgets": {},
     "nuid": "e5f9c969-2a72-492e-9a45-6008ca6c1e6c",
     "showTitle": false,
     "title": ""
    }
   },
   "outputs": [
    {
     "output_type": "display_data",
     "data": {
      "text/html": [
       "<style scoped>\n",
       "  .table-result-container {\n",
       "    max-height: 300px;\n",
       "    overflow: auto;\n",
       "  }\n",
       "  table, th, td {\n",
       "    border: 1px solid black;\n",
       "    border-collapse: collapse;\n",
       "  }\n",
       "  th, td {\n",
       "    padding: 5px;\n",
       "  }\n",
       "  th {\n",
       "    text-align: left;\n",
       "  }\n",
       "</style><div class='table-result-container'><table class='table-result'><thead style='background-color: white'><tr><th>circuit_id</th><th>circuit_ref</th><th>name</th><th>circuit_location</th><th>country</th><th>latitude</th><th>longitude</th><th>altitude</th><th>ingestion_date</th><th>data_source</th><th>file_date</th></tr></thead><tbody><tr><td>1</td><td>albert_park</td><td>Albert Park Grand Prix Circuit</td><td>Melbourne</td><td>Australia</td><td>-37.8497</td><td>144.968</td><td>10</td><td>2023-12-22T11:00:51.502Z</td><td>Ergast</td><td>2021-04-18</td></tr><tr><td>2</td><td>sepang</td><td>Sepang International Circuit</td><td>Kuala Lumpur</td><td>Malaysia</td><td>2.76083</td><td>101.738</td><td>18</td><td>2023-12-22T11:00:51.502Z</td><td>Ergast</td><td>2021-04-18</td></tr><tr><td>3</td><td>bahrain</td><td>Bahrain International Circuit</td><td>Sakhir</td><td>Bahrain</td><td>26.0325</td><td>50.5106</td><td>7</td><td>2023-12-22T11:00:51.502Z</td><td>Ergast</td><td>2021-04-18</td></tr><tr><td>4</td><td>catalunya</td><td>Circuit de Barcelona-Catalunya</td><td>Montmeló</td><td>Spain</td><td>41.57</td><td>2.26111</td><td>109</td><td>2023-12-22T11:00:51.502Z</td><td>Ergast</td><td>2021-04-18</td></tr><tr><td>5</td><td>istanbul</td><td>Istanbul Park</td><td>Istanbul</td><td>Turkey</td><td>40.9517</td><td>29.405</td><td>130</td><td>2023-12-22T11:00:51.502Z</td><td>Ergast</td><td>2021-04-18</td></tr></tbody></table></div>"
      ]
     },
     "metadata": {
      "application/vnd.databricks.v1+output": {
       "addedWidgets": {},
       "aggData": [],
       "aggError": "",
       "aggOverflow": false,
       "aggSchema": [],
       "aggSeriesLimitReached": false,
       "aggType": "",
       "arguments": {},
       "columnCustomDisplayInfos": {},
       "data": [
        [
         1,
         "albert_park",
         "Albert Park Grand Prix Circuit",
         "Melbourne",
         "Australia",
         -37.8497,
         144.968,
         10,
         "2023-12-22T11:00:51.502Z",
         "Ergast",
         "2021-04-18"
        ],
        [
         2,
         "sepang",
         "Sepang International Circuit",
         "Kuala Lumpur",
         "Malaysia",
         2.76083,
         101.738,
         18,
         "2023-12-22T11:00:51.502Z",
         "Ergast",
         "2021-04-18"
        ],
        [
         3,
         "bahrain",
         "Bahrain International Circuit",
         "Sakhir",
         "Bahrain",
         26.0325,
         50.5106,
         7,
         "2023-12-22T11:00:51.502Z",
         "Ergast",
         "2021-04-18"
        ],
        [
         4,
         "catalunya",
         "Circuit de Barcelona-Catalunya",
         "Montmeló",
         "Spain",
         41.57,
         2.26111,
         109,
         "2023-12-22T11:00:51.502Z",
         "Ergast",
         "2021-04-18"
        ],
        [
         5,
         "istanbul",
         "Istanbul Park",
         "Istanbul",
         "Turkey",
         40.9517,
         29.405,
         130,
         "2023-12-22T11:00:51.502Z",
         "Ergast",
         "2021-04-18"
        ]
       ],
       "datasetInfos": [],
       "dbfsResultPath": null,
       "isJsonSchema": true,
       "metadata": {},
       "overflow": false,
       "plotOptions": {
        "customPlotOptions": {},
        "displayType": "table",
        "pivotAggregation": null,
        "pivotColumns": null,
        "xColumns": null,
        "yColumns": null
       },
       "removedWidgets": [],
       "schema": [
        {
         "metadata": "{}",
         "name": "circuit_id",
         "type": "\"integer\""
        },
        {
         "metadata": "{}",
         "name": "circuit_ref",
         "type": "\"string\""
        },
        {
         "metadata": "{}",
         "name": "name",
         "type": "\"string\""
        },
        {
         "metadata": "{}",
         "name": "circuit_location",
         "type": "\"string\""
        },
        {
         "metadata": "{}",
         "name": "country",
         "type": "\"string\""
        },
        {
         "metadata": "{}",
         "name": "latitude",
         "type": "\"double\""
        },
        {
         "metadata": "{}",
         "name": "longitude",
         "type": "\"double\""
        },
        {
         "metadata": "{}",
         "name": "altitude",
         "type": "\"integer\""
        },
        {
         "metadata": "{}",
         "name": "ingestion_date",
         "type": "\"timestamp\""
        },
        {
         "metadata": "{}",
         "name": "data_source",
         "type": "\"string\""
        },
        {
         "metadata": "{}",
         "name": "file_date",
         "type": "\"string\""
        }
       ],
       "type": "table"
      }
     },
     "output_type": "display_data"
    }
   ],
   "source": [
    "# display(circuits_df.limit(5))"
   ]
  },
  {
   "cell_type": "code",
   "execution_count": 0,
   "metadata": {
    "application/vnd.databricks.v1+cell": {
     "cellMetadata": {
      "byteLimit": 2048000,
      "rowLimit": 10000
     },
     "inputWidgets": {},
     "nuid": "f33271f4-cef0-47b6-974b-3e9217296ee3",
     "showTitle": false,
     "title": ""
    }
   },
   "outputs": [],
   "source": [
    "drivers_df = spark.read.format(\"delta\").load(f\"{processed_folder_path}/drivers\") \\\n",
    "    .withColumnRenamed(\"name\", \"driver_name\") \\\n",
    "    .withColumnRenamed(\"number\", \"driver_number\") \\\n",
    "    .withColumnRenamed(\"nationality\", \"driver_nationality\")"
   ]
  },
  {
   "cell_type": "code",
   "execution_count": 0,
   "metadata": {
    "application/vnd.databricks.v1+cell": {
     "cellMetadata": {
      "byteLimit": 2048000,
      "rowLimit": 10000
     },
     "inputWidgets": {},
     "nuid": "94dbd0c3-a05c-4a55-be5b-29ff475815c9",
     "showTitle": false,
     "title": ""
    }
   },
   "outputs": [
    {
     "output_type": "display_data",
     "data": {
      "text/html": [
       "<style scoped>\n",
       "  .table-result-container {\n",
       "    max-height: 300px;\n",
       "    overflow: auto;\n",
       "  }\n",
       "  table, th, td {\n",
       "    border: 1px solid black;\n",
       "    border-collapse: collapse;\n",
       "  }\n",
       "  th, td {\n",
       "    padding: 5px;\n",
       "  }\n",
       "  th {\n",
       "    text-align: left;\n",
       "  }\n",
       "</style><div class='table-result-container'><table class='table-result'><thead style='background-color: white'><tr><th>driver_id</th><th>driver_ref</th><th>driver_number</th><th>code</th><th>driver_name</th><th>dob</th><th>driver_nationality</th><th>ingestion_date</th><th>data_source</th><th>file_date</th></tr></thead><tbody><tr><td>1</td><td>hamilton</td><td>44</td><td>HAM</td><td>Lewis Hamilton</td><td>1985-01-07</td><td>British</td><td>2023-12-22T11:00:51.217Z</td><td>Ergast</td><td>2021-04-18</td></tr><tr><td>2</td><td>heidfeld</td><td>null</td><td>HEI</td><td>Nick Heidfeld</td><td>1977-05-10</td><td>German</td><td>2023-12-22T11:00:51.217Z</td><td>Ergast</td><td>2021-04-18</td></tr><tr><td>3</td><td>rosberg</td><td>6</td><td>ROS</td><td>Nico Rosberg</td><td>1985-06-27</td><td>German</td><td>2023-12-22T11:00:51.217Z</td><td>Ergast</td><td>2021-04-18</td></tr><tr><td>4</td><td>alonso</td><td>14</td><td>ALO</td><td>Fernando Alonso</td><td>1981-07-29</td><td>Spanish</td><td>2023-12-22T11:00:51.217Z</td><td>Ergast</td><td>2021-04-18</td></tr><tr><td>5</td><td>kovalainen</td><td>null</td><td>KOV</td><td>Heikki Kovalainen</td><td>1981-10-19</td><td>Finnish</td><td>2023-12-22T11:00:51.217Z</td><td>Ergast</td><td>2021-04-18</td></tr></tbody></table></div>"
      ]
     },
     "metadata": {
      "application/vnd.databricks.v1+output": {
       "addedWidgets": {},
       "aggData": [],
       "aggError": "",
       "aggOverflow": false,
       "aggSchema": [],
       "aggSeriesLimitReached": false,
       "aggType": "",
       "arguments": {},
       "columnCustomDisplayInfos": {},
       "data": [
        [
         1,
         "hamilton",
         44,
         "HAM",
         "Lewis Hamilton",
         "1985-01-07",
         "British",
         "2023-12-22T11:00:51.217Z",
         "Ergast",
         "2021-04-18"
        ],
        [
         2,
         "heidfeld",
         null,
         "HEI",
         "Nick Heidfeld",
         "1977-05-10",
         "German",
         "2023-12-22T11:00:51.217Z",
         "Ergast",
         "2021-04-18"
        ],
        [
         3,
         "rosberg",
         6,
         "ROS",
         "Nico Rosberg",
         "1985-06-27",
         "German",
         "2023-12-22T11:00:51.217Z",
         "Ergast",
         "2021-04-18"
        ],
        [
         4,
         "alonso",
         14,
         "ALO",
         "Fernando Alonso",
         "1981-07-29",
         "Spanish",
         "2023-12-22T11:00:51.217Z",
         "Ergast",
         "2021-04-18"
        ],
        [
         5,
         "kovalainen",
         null,
         "KOV",
         "Heikki Kovalainen",
         "1981-10-19",
         "Finnish",
         "2023-12-22T11:00:51.217Z",
         "Ergast",
         "2021-04-18"
        ]
       ],
       "datasetInfos": [],
       "dbfsResultPath": null,
       "isJsonSchema": true,
       "metadata": {},
       "overflow": false,
       "plotOptions": {
        "customPlotOptions": {},
        "displayType": "table",
        "pivotAggregation": null,
        "pivotColumns": null,
        "xColumns": null,
        "yColumns": null
       },
       "removedWidgets": [],
       "schema": [
        {
         "metadata": "{}",
         "name": "driver_id",
         "type": "\"integer\""
        },
        {
         "metadata": "{}",
         "name": "driver_ref",
         "type": "\"string\""
        },
        {
         "metadata": "{}",
         "name": "driver_number",
         "type": "\"integer\""
        },
        {
         "metadata": "{}",
         "name": "code",
         "type": "\"string\""
        },
        {
         "metadata": "{}",
         "name": "driver_name",
         "type": "\"string\""
        },
        {
         "metadata": "{}",
         "name": "dob",
         "type": "\"date\""
        },
        {
         "metadata": "{}",
         "name": "driver_nationality",
         "type": "\"string\""
        },
        {
         "metadata": "{}",
         "name": "ingestion_date",
         "type": "\"timestamp\""
        },
        {
         "metadata": "{}",
         "name": "data_source",
         "type": "\"string\""
        },
        {
         "metadata": "{}",
         "name": "file_date",
         "type": "\"string\""
        }
       ],
       "type": "table"
      }
     },
     "output_type": "display_data"
    }
   ],
   "source": [
    "# display(drivers_df.limit(5))"
   ]
  },
  {
   "cell_type": "code",
   "execution_count": 0,
   "metadata": {
    "application/vnd.databricks.v1+cell": {
     "cellMetadata": {
      "byteLimit": 2048000,
      "rowLimit": 10000
     },
     "inputWidgets": {},
     "nuid": "2a90efb7-582b-4df1-b0d8-f519fc19ea1a",
     "showTitle": false,
     "title": ""
    }
   },
   "outputs": [],
   "source": [
    "constructors_df = spark.read.format(\"delta\").load(f\"{processed_folder_path}/constructors\") \\\n",
    "    .withColumnRenamed(\"name\", \"team\")"
   ]
  },
  {
   "cell_type": "code",
   "execution_count": 0,
   "metadata": {
    "application/vnd.databricks.v1+cell": {
     "cellMetadata": {
      "byteLimit": 2048000,
      "rowLimit": 10000
     },
     "inputWidgets": {},
     "nuid": "9a1d6d2c-8700-4731-beed-e3628d555a3c",
     "showTitle": false,
     "title": ""
    }
   },
   "outputs": [
    {
     "output_type": "display_data",
     "data": {
      "text/html": [
       "<style scoped>\n",
       "  .table-result-container {\n",
       "    max-height: 300px;\n",
       "    overflow: auto;\n",
       "  }\n",
       "  table, th, td {\n",
       "    border: 1px solid black;\n",
       "    border-collapse: collapse;\n",
       "  }\n",
       "  th, td {\n",
       "    padding: 5px;\n",
       "  }\n",
       "  th {\n",
       "    text-align: left;\n",
       "  }\n",
       "</style><div class='table-result-container'><table class='table-result'><thead style='background-color: white'><tr><th>constructor_id</th><th>constructor_ref</th><th>team</th><th>nationality</th><th>ingestion_date</th><th>data_source</th><th>file_date</th></tr></thead><tbody><tr><td>1</td><td>mclaren</td><td>McLaren</td><td>British</td><td>2023-12-22T11:00:50.346Z</td><td>Ergast</td><td>2021-04-18</td></tr><tr><td>2</td><td>bmw_sauber</td><td>BMW Sauber</td><td>German</td><td>2023-12-22T11:00:50.346Z</td><td>Ergast</td><td>2021-04-18</td></tr><tr><td>3</td><td>williams</td><td>Williams</td><td>British</td><td>2023-12-22T11:00:50.346Z</td><td>Ergast</td><td>2021-04-18</td></tr><tr><td>4</td><td>renault</td><td>Renault</td><td>French</td><td>2023-12-22T11:00:50.346Z</td><td>Ergast</td><td>2021-04-18</td></tr><tr><td>5</td><td>toro_rosso</td><td>Toro Rosso</td><td>Italian</td><td>2023-12-22T11:00:50.346Z</td><td>Ergast</td><td>2021-04-18</td></tr></tbody></table></div>"
      ]
     },
     "metadata": {
      "application/vnd.databricks.v1+output": {
       "addedWidgets": {},
       "aggData": [],
       "aggError": "",
       "aggOverflow": false,
       "aggSchema": [],
       "aggSeriesLimitReached": false,
       "aggType": "",
       "arguments": {},
       "columnCustomDisplayInfos": {},
       "data": [
        [
         1,
         "mclaren",
         "McLaren",
         "British",
         "2023-12-22T11:00:50.346Z",
         "Ergast",
         "2021-04-18"
        ],
        [
         2,
         "bmw_sauber",
         "BMW Sauber",
         "German",
         "2023-12-22T11:00:50.346Z",
         "Ergast",
         "2021-04-18"
        ],
        [
         3,
         "williams",
         "Williams",
         "British",
         "2023-12-22T11:00:50.346Z",
         "Ergast",
         "2021-04-18"
        ],
        [
         4,
         "renault",
         "Renault",
         "French",
         "2023-12-22T11:00:50.346Z",
         "Ergast",
         "2021-04-18"
        ],
        [
         5,
         "toro_rosso",
         "Toro Rosso",
         "Italian",
         "2023-12-22T11:00:50.346Z",
         "Ergast",
         "2021-04-18"
        ]
       ],
       "datasetInfos": [],
       "dbfsResultPath": null,
       "isJsonSchema": true,
       "metadata": {},
       "overflow": false,
       "plotOptions": {
        "customPlotOptions": {},
        "displayType": "table",
        "pivotAggregation": null,
        "pivotColumns": null,
        "xColumns": null,
        "yColumns": null
       },
       "removedWidgets": [],
       "schema": [
        {
         "metadata": "{}",
         "name": "constructor_id",
         "type": "\"integer\""
        },
        {
         "metadata": "{}",
         "name": "constructor_ref",
         "type": "\"string\""
        },
        {
         "metadata": "{}",
         "name": "team",
         "type": "\"string\""
        },
        {
         "metadata": "{}",
         "name": "nationality",
         "type": "\"string\""
        },
        {
         "metadata": "{}",
         "name": "ingestion_date",
         "type": "\"timestamp\""
        },
        {
         "metadata": "{}",
         "name": "data_source",
         "type": "\"string\""
        },
        {
         "metadata": "{}",
         "name": "file_date",
         "type": "\"string\""
        }
       ],
       "type": "table"
      }
     },
     "output_type": "display_data"
    }
   ],
   "source": [
    "# display(constructors_df.limit(5))"
   ]
  },
  {
   "cell_type": "code",
   "execution_count": 0,
   "metadata": {
    "application/vnd.databricks.v1+cell": {
     "cellMetadata": {
      "byteLimit": 2048000,
      "rowLimit": 10000
     },
     "inputWidgets": {},
     "nuid": "2101def8-a52e-48a4-a761-c02ab55155bf",
     "showTitle": false,
     "title": ""
    }
   },
   "outputs": [],
   "source": [
    "results_df = spark.read.format(\"delta\").load(f\"{processed_folder_path}/results\") \\\n",
    "    .filter(f\"file_date = '{v_file_date}'\") \\\n",
    "    .withColumnRenamed(\"time\", \"race_time\") \\\n",
    "    .withColumnRenamed(\"race_id\", \"result_race_id\") \\\n",
    "    .withColumnRenamed(\"file_date\", \"result_file_date\")"
   ]
  },
  {
   "cell_type": "code",
   "execution_count": 0,
   "metadata": {
    "application/vnd.databricks.v1+cell": {
     "cellMetadata": {
      "byteLimit": 2048000,
      "rowLimit": 10000
     },
     "inputWidgets": {},
     "nuid": "bb80cda1-8676-4ced-98ee-bbe21acaef35",
     "showTitle": false,
     "title": ""
    }
   },
   "outputs": [
    {
     "output_type": "display_data",
     "data": {
      "text/html": [
       "<style scoped>\n",
       "  .table-result-container {\n",
       "    max-height: 300px;\n",
       "    overflow: auto;\n",
       "  }\n",
       "  table, th, td {\n",
       "    border: 1px solid black;\n",
       "    border-collapse: collapse;\n",
       "  }\n",
       "  th, td {\n",
       "    padding: 5px;\n",
       "  }\n",
       "  th {\n",
       "    text-align: left;\n",
       "  }\n",
       "</style><div class='table-result-container'><table class='table-result'><thead style='background-color: white'><tr><th>result_id</th><th>result_race_id</th><th>driver_id</th><th>constructor_id</th><th>number</th><th>grid</th><th>position</th><th>position_text</th><th>position_order</th><th>points</th><th>laps</th><th>race_time</th><th>milliseconds</th><th>fastest_lap</th><th>rank</th><th>fastest_lap_time</th><th>fastest_lap_speed</th><th>ingestion_date</th><th>data_source</th><th>result_file_date</th></tr></thead><tbody><tr><td>21546</td><td>873</td><td>4</td><td>6</td><td>5</td><td>5</td><td>3</td><td>3</td><td>3</td><td>15.0</td><td>59</td><td>+15.227</td><td>7241371</td><td>53</td><td>5</td><td>1:52.709</td><td>162.034</td><td>2023-12-22T10:51:17.188Z</td><td>Ergast</td><td>2021-03-21</td></tr><tr><td>21558</td><td>873</td><td>5</td><td>207</td><td>20</td><td>19</td><td>15</td><td>15</td><td>15</td><td>0.0</td><td>59</td><td>+107.967</td><td>7334111</td><td>48</td><td>18</td><td>1:55.233</td><td>158.485</td><td>2023-12-22T10:51:17.188Z</td><td>Ergast</td><td>2021-03-21</td></tr><tr><td>21555</td><td>873</td><td>10</td><td>206</td><td>24</td><td>20</td><td>12</td><td>12</td><td>12</td><td>0.0</td><td>59</td><td>+91.918</td><td>7318062</td><td>30</td><td>21</td><td>1:56.057</td><td>157.36</td><td>2023-12-22T10:51:17.188Z</td><td>Ergast</td><td>2021-03-21</td></tr><tr><td>21564</td><td>873</td><td>30</td><td>131</td><td>7</td><td>9</td><td>null</td><td>R</td><td>21</td><td>0.0</td><td>38</td><td>\\N</td><td>null</td><td>26</td><td>20</td><td>1:56.047</td><td>157.374</td><td>2023-12-22T10:51:17.188Z</td><td>Ergast</td><td>2021-03-21</td></tr><tr><td>21566</td><td>873</td><td>39</td><td>164</td><td>23</td><td>23</td><td>null</td><td>R</td><td>23</td><td>0.0</td><td>30</td><td>\\N</td><td>null</td><td>26</td><td>24</td><td>1:58.507</td><td>154.107</td><td>2023-12-22T10:51:17.188Z</td><td>Ergast</td><td>2021-03-21</td></tr></tbody></table></div>"
      ]
     },
     "metadata": {
      "application/vnd.databricks.v1+output": {
       "addedWidgets": {},
       "aggData": [],
       "aggError": "",
       "aggOverflow": false,
       "aggSchema": [],
       "aggSeriesLimitReached": false,
       "aggType": "",
       "arguments": {},
       "columnCustomDisplayInfos": {},
       "data": [
        [
         21546,
         873,
         4,
         6,
         5,
         5,
         3,
         "3",
         3,
         15.0,
         59,
         "+15.227",
         7241371,
         53,
         5,
         "1:52.709",
         "162.034",
         "2023-12-22T10:51:17.188Z",
         "Ergast",
         "2021-03-21"
        ],
        [
         21558,
         873,
         5,
         207,
         20,
         19,
         15,
         "15",
         15,
         0.0,
         59,
         "+107.967",
         7334111,
         48,
         18,
         "1:55.233",
         "158.485",
         "2023-12-22T10:51:17.188Z",
         "Ergast",
         "2021-03-21"
        ],
        [
         21555,
         873,
         10,
         206,
         24,
         20,
         12,
         "12",
         12,
         0.0,
         59,
         "+91.918",
         7318062,
         30,
         21,
         "1:56.057",
         "157.36",
         "2023-12-22T10:51:17.188Z",
         "Ergast",
         "2021-03-21"
        ],
        [
         21564,
         873,
         30,
         131,
         7,
         9,
         null,
         "R",
         21,
         0.0,
         38,
         "\\N",
         null,
         26,
         20,
         "1:56.047",
         "157.374",
         "2023-12-22T10:51:17.188Z",
         "Ergast",
         "2021-03-21"
        ],
        [
         21566,
         873,
         39,
         164,
         23,
         23,
         null,
         "R",
         23,
         0.0,
         30,
         "\\N",
         null,
         26,
         24,
         "1:58.507",
         "154.107",
         "2023-12-22T10:51:17.188Z",
         "Ergast",
         "2021-03-21"
        ]
       ],
       "datasetInfos": [],
       "dbfsResultPath": null,
       "isJsonSchema": true,
       "metadata": {},
       "overflow": false,
       "plotOptions": {
        "customPlotOptions": {},
        "displayType": "table",
        "pivotAggregation": null,
        "pivotColumns": null,
        "xColumns": null,
        "yColumns": null
       },
       "removedWidgets": [],
       "schema": [
        {
         "metadata": "{}",
         "name": "result_id",
         "type": "\"integer\""
        },
        {
         "metadata": "{}",
         "name": "result_race_id",
         "type": "\"integer\""
        },
        {
         "metadata": "{}",
         "name": "driver_id",
         "type": "\"integer\""
        },
        {
         "metadata": "{}",
         "name": "constructor_id",
         "type": "\"integer\""
        },
        {
         "metadata": "{}",
         "name": "number",
         "type": "\"integer\""
        },
        {
         "metadata": "{}",
         "name": "grid",
         "type": "\"integer\""
        },
        {
         "metadata": "{}",
         "name": "position",
         "type": "\"integer\""
        },
        {
         "metadata": "{}",
         "name": "position_text",
         "type": "\"string\""
        },
        {
         "metadata": "{}",
         "name": "position_order",
         "type": "\"integer\""
        },
        {
         "metadata": "{}",
         "name": "points",
         "type": "\"float\""
        },
        {
         "metadata": "{}",
         "name": "laps",
         "type": "\"integer\""
        },
        {
         "metadata": "{}",
         "name": "race_time",
         "type": "\"string\""
        },
        {
         "metadata": "{}",
         "name": "milliseconds",
         "type": "\"integer\""
        },
        {
         "metadata": "{}",
         "name": "fastest_lap",
         "type": "\"integer\""
        },
        {
         "metadata": "{}",
         "name": "rank",
         "type": "\"integer\""
        },
        {
         "metadata": "{}",
         "name": "fastest_lap_time",
         "type": "\"string\""
        },
        {
         "metadata": "{}",
         "name": "fastest_lap_speed",
         "type": "\"string\""
        },
        {
         "metadata": "{}",
         "name": "ingestion_date",
         "type": "\"timestamp\""
        },
        {
         "metadata": "{}",
         "name": "data_source",
         "type": "\"string\""
        },
        {
         "metadata": "{}",
         "name": "result_file_date",
         "type": "\"string\""
        }
       ],
       "type": "table"
      }
     },
     "output_type": "display_data"
    }
   ],
   "source": [
    "# display(results_df.limit(5))"
   ]
  },
  {
   "cell_type": "markdown",
   "metadata": {
    "application/vnd.databricks.v1+cell": {
     "cellMetadata": {
      "byteLimit": 2048000,
      "rowLimit": 10000
     },
     "inputWidgets": {},
     "nuid": "ab7ae94c-c4df-42ec-aa75-657f80174c2f",
     "showTitle": false,
     "title": ""
    }
   },
   "source": [
    "##### Step 3 - Join Races and Circuits dataframe"
   ]
  },
  {
   "cell_type": "code",
   "execution_count": 0,
   "metadata": {
    "application/vnd.databricks.v1+cell": {
     "cellMetadata": {
      "byteLimit": 2048000,
      "rowLimit": 10000
     },
     "inputWidgets": {},
     "nuid": "2d26548f-20fd-4924-833e-c94b07e58948",
     "showTitle": false,
     "title": ""
    }
   },
   "outputs": [],
   "source": [
    "race_circuits_df = races_df.join(circuits_df, races_df.circuit_id == circuits_df.circuit_id) \\\n",
    "    .select(races_df.race_id, races_df.race_year, races_df.race_name, races_df.race_date, circuits_df.circuit_location)\n",
    "    "
   ]
  },
  {
   "cell_type": "markdown",
   "metadata": {
    "application/vnd.databricks.v1+cell": {
     "cellMetadata": {
      "byteLimit": 2048000,
      "rowLimit": 10000
     },
     "inputWidgets": {},
     "nuid": "dec41e1a-4d82-4e1c-b44d-9bea1b1ddd9e",
     "showTitle": false,
     "title": ""
    }
   },
   "source": [
    "##### Step 4 - Join results, drivers, constructors to the races_circuits_df"
   ]
  },
  {
   "cell_type": "code",
   "execution_count": 0,
   "metadata": {
    "application/vnd.databricks.v1+cell": {
     "cellMetadata": {
      "byteLimit": 2048000,
      "rowLimit": 10000
     },
     "inputWidgets": {},
     "nuid": "fb540eb4-d5bd-4ee6-93d4-14a705746b1a",
     "showTitle": false,
     "title": ""
    }
   },
   "outputs": [],
   "source": [
    "race_results_df = race_circuits_df.join(results_df, race_circuits_df.race_id == results_df.result_race_id) \\\n",
    "    .join(drivers_df, drivers_df.driver_id == results_df.driver_id) \\\n",
    "    .join(constructors_df, constructors_df.constructor_id == results_df.constructor_id)"
   ]
  },
  {
   "cell_type": "code",
   "execution_count": 0,
   "metadata": {
    "application/vnd.databricks.v1+cell": {
     "cellMetadata": {
      "byteLimit": 2048000,
      "rowLimit": 10000
     },
     "inputWidgets": {},
     "nuid": "a4ed6b65-40be-4a9d-9eaf-ad1c2f5066ad",
     "showTitle": false,
     "title": ""
    }
   },
   "outputs": [],
   "source": [
    "from pyspark.sql.functions import current_timestamp"
   ]
  },
  {
   "cell_type": "markdown",
   "metadata": {
    "application/vnd.databricks.v1+cell": {
     "cellMetadata": {
      "byteLimit": 2048000,
      "rowLimit": 10000
     },
     "inputWidgets": {},
     "nuid": "f2744628-b4b2-4409-87f5-6e617160f311",
     "showTitle": false,
     "title": ""
    }
   },
   "source": [
    "##### Step 5 - Select required fields"
   ]
  },
  {
   "cell_type": "code",
   "execution_count": 0,
   "metadata": {
    "application/vnd.databricks.v1+cell": {
     "cellMetadata": {
      "byteLimit": 2048000,
      "rowLimit": 10000
     },
     "inputWidgets": {},
     "nuid": "95bb68a5-c746-40b7-a95e-f8db32fb4f04",
     "showTitle": false,
     "title": ""
    }
   },
   "outputs": [],
   "source": [
    "final_df = race_results_df.select(\"race_id\", \"race_year\", \"race_name\", \"race_date\", \"circuit_location\", \n",
    "                                  \"driver_name\", \"driver_number\", \"driver_nationality\", \"team\",  \"grid\", \"fastest_lap\", \"race_time\", \"points\", \"position\", \"result_file_date\") \\\n",
    "    .withColumn(\"created_date\", current_timestamp()) \\\n",
    "    .withColumnRenamed(\"result_file_date\", \"file_date\")"
   ]
  },
  {
   "cell_type": "markdown",
   "metadata": {
    "application/vnd.databricks.v1+cell": {
     "cellMetadata": {
      "byteLimit": 2048000,
      "rowLimit": 10000
     },
     "inputWidgets": {},
     "nuid": "3e70afac-445d-4e1b-9f02-f1ce074bbe82",
     "showTitle": false,
     "title": ""
    }
   },
   "source": [
    "##### Step 6 - Write final data to the presentation container"
   ]
  },
  {
   "cell_type": "code",
   "execution_count": 0,
   "metadata": {
    "application/vnd.databricks.v1+cell": {
     "cellMetadata": {
      "byteLimit": 2048000,
      "rowLimit": 10000
     },
     "inputWidgets": {},
     "nuid": "01f0cf8c-7524-4a10-a138-5f72681cd70f",
     "showTitle": false,
     "title": ""
    }
   },
   "outputs": [],
   "source": [
    "merge_condition = \"tgt.driver_name = src.driver_name AND tgt.race_id = src.race_id\"\n",
    "merge_delta_deta(final_df, \"f1_presentation\", \"race_results\", presentation_folder_path, merge_condition, \"race_id\")"
   ]
  },
  {
   "cell_type": "code",
   "execution_count": 0,
   "metadata": {
    "application/vnd.databricks.v1+cell": {
     "cellMetadata": {
      "byteLimit": 2048000,
      "implicitDf": true,
      "rowLimit": 10000
     },
     "inputWidgets": {},
     "nuid": "3d7964a1-5c7e-42ee-ae64-38d0c1170057",
     "showTitle": false,
     "title": ""
    }
   },
   "outputs": [
    {
     "output_type": "display_data",
     "data": {
      "text/html": [
       "<style scoped>\n",
       "  .table-result-container {\n",
       "    max-height: 300px;\n",
       "    overflow: auto;\n",
       "  }\n",
       "  table, th, td {\n",
       "    border: 1px solid black;\n",
       "    border-collapse: collapse;\n",
       "  }\n",
       "  th, td {\n",
       "    padding: 5px;\n",
       "  }\n",
       "  th {\n",
       "    text-align: left;\n",
       "  }\n",
       "</style><div class='table-result-container'><table class='table-result'><thead style='background-color: white'><tr><th>race_id</th><th>count(1)</th></tr></thead><tbody><tr><td>1053</td><td>20</td></tr><tr><td>1052</td><td>20</td></tr><tr><td>1047</td><td>20</td></tr><tr><td>1046</td><td>20</td></tr><tr><td>1045</td><td>20</td></tr></tbody></table></div>"
      ]
     },
     "metadata": {
      "application/vnd.databricks.v1+output": {
       "addedWidgets": {},
       "aggData": [],
       "aggError": "",
       "aggOverflow": false,
       "aggSchema": [],
       "aggSeriesLimitReached": false,
       "aggType": "",
       "arguments": {},
       "columnCustomDisplayInfos": {},
       "data": [
        [
         1053,
         20
        ],
        [
         1052,
         20
        ],
        [
         1047,
         20
        ],
        [
         1046,
         20
        ],
        [
         1045,
         20
        ]
       ],
       "datasetInfos": [],
       "dbfsResultPath": null,
       "isJsonSchema": true,
       "metadata": {
        "dataframeName": "_sqldf",
        "executionCount": 15
       },
       "overflow": false,
       "plotOptions": {
        "customPlotOptions": {},
        "displayType": "table",
        "pivotAggregation": null,
        "pivotColumns": null,
        "xColumns": null,
        "yColumns": null
       },
       "removedWidgets": [],
       "schema": [
        {
         "metadata": "{}",
         "name": "race_id",
         "type": "\"integer\""
        },
        {
         "metadata": "{\"__autoGeneratedAlias\":\"true\"}",
         "name": "count(1)",
         "type": "\"long\""
        }
       ],
       "type": "table"
      }
     },
     "output_type": "display_data"
    }
   ],
   "source": [
    "# %sql\n",
    "# SELECT race_id, COUNT(1)\n",
    "# FROM f1_presentation.race_results\n",
    "# GROUP BY race_id\n",
    "# ORDER BY race_id DESC\n",
    "# LIMIT 5;"
   ]
  },
  {
   "cell_type": "code",
   "execution_count": 0,
   "metadata": {
    "application/vnd.databricks.v1+cell": {
     "cellMetadata": {
      "byteLimit": 2048000,
      "implicitDf": true,
      "rowLimit": 10000
     },
     "inputWidgets": {},
     "nuid": "75a3279a-2cd3-4266-bbb7-3448d7637852",
     "showTitle": false,
     "title": ""
    }
   },
   "outputs": [
    {
     "output_type": "display_data",
     "data": {
      "text/html": [
       "<style scoped>\n",
       "  .table-result-container {\n",
       "    max-height: 300px;\n",
       "    overflow: auto;\n",
       "  }\n",
       "  table, th, td {\n",
       "    border: 1px solid black;\n",
       "    border-collapse: collapse;\n",
       "  }\n",
       "  th, td {\n",
       "    padding: 5px;\n",
       "  }\n",
       "  th {\n",
       "    text-align: left;\n",
       "  }\n",
       "</style><div class='table-result-container'><table class='table-result'><thead style='background-color: white'><tr><th>race_id</th><th>race_year</th><th>race_name</th><th>race_date</th><th>circuit_location</th><th>driver_name</th><th>driver_number</th><th>driver_nationality</th><th>team</th><th>grid</th><th>fastest_lap</th><th>race_time</th><th>points</th><th>position</th><th>file_date</th><th>created_date</th></tr></thead><tbody><tr><td>496</td><td>1981</td><td>Canadian Grand Prix</td><td>null</td><td>Montreal</td><td>Michele Alboreto</td><td>null</td><td>Italian</td><td>Tyrrell</td><td>22</td><td>null</td><td>\\N</td><td>0.0</td><td>11</td><td>2021-03-21</td><td>2023-12-22T10:54:04.402Z</td></tr><tr><td>496</td><td>1981</td><td>Canadian Grand Prix</td><td>null</td><td>Montreal</td><td>Andrea de Cesaris</td><td>null</td><td>Italian</td><td>McLaren</td><td>13</td><td>null</td><td>\\N</td><td>0.0</td><td>null</td><td>2021-03-21</td><td>2023-12-22T10:54:04.402Z</td></tr><tr><td>496</td><td>1981</td><td>Canadian Grand Prix</td><td>null</td><td>Montreal</td><td>Alain Prost</td><td>null</td><td>French</td><td>Renault</td><td>4</td><td>null</td><td>\\N</td><td>0.0</td><td>null</td><td>2021-03-21</td><td>2023-12-22T10:54:04.402Z</td></tr><tr><td>496</td><td>1981</td><td>Canadian Grand Prix</td><td>null</td><td>Montreal</td><td>Derek Warwick</td><td>null</td><td>British</td><td>Toleman</td><td>0</td><td>null</td><td>\\N</td><td>0.0</td><td>null</td><td>2021-03-21</td><td>2023-12-22T10:54:04.402Z</td></tr><tr><td>496</td><td>1981</td><td>Canadian Grand Prix</td><td>null</td><td>Montreal</td><td>Riccardo Patrese</td><td>null</td><td>Italian</td><td>Arrows</td><td>18</td><td>null</td><td>\\N</td><td>0.0</td><td>null</td><td>2021-03-21</td><td>2023-12-22T10:54:04.402Z</td></tr></tbody></table></div>"
      ]
     },
     "metadata": {
      "application/vnd.databricks.v1+output": {
       "addedWidgets": {},
       "aggData": [],
       "aggError": "",
       "aggOverflow": false,
       "aggSchema": [],
       "aggSeriesLimitReached": false,
       "aggType": "",
       "arguments": {},
       "columnCustomDisplayInfos": {},
       "data": [
        [
         496,
         1981,
         "Canadian Grand Prix",
         null,
         "Montreal",
         "Michele Alboreto",
         null,
         "Italian",
         "Tyrrell",
         22,
         null,
         "\\N",
         0.0,
         11,
         "2021-03-21",
         "2023-12-22T10:54:04.402Z"
        ],
        [
         496,
         1981,
         "Canadian Grand Prix",
         null,
         "Montreal",
         "Andrea de Cesaris",
         null,
         "Italian",
         "McLaren",
         13,
         null,
         "\\N",
         0.0,
         null,
         "2021-03-21",
         "2023-12-22T10:54:04.402Z"
        ],
        [
         496,
         1981,
         "Canadian Grand Prix",
         null,
         "Montreal",
         "Alain Prost",
         null,
         "French",
         "Renault",
         4,
         null,
         "\\N",
         0.0,
         null,
         "2021-03-21",
         "2023-12-22T10:54:04.402Z"
        ],
        [
         496,
         1981,
         "Canadian Grand Prix",
         null,
         "Montreal",
         "Derek Warwick",
         null,
         "British",
         "Toleman",
         0,
         null,
         "\\N",
         0.0,
         null,
         "2021-03-21",
         "2023-12-22T10:54:04.402Z"
        ],
        [
         496,
         1981,
         "Canadian Grand Prix",
         null,
         "Montreal",
         "Riccardo Patrese",
         null,
         "Italian",
         "Arrows",
         18,
         null,
         "\\N",
         0.0,
         null,
         "2021-03-21",
         "2023-12-22T10:54:04.402Z"
        ]
       ],
       "datasetInfos": [],
       "dbfsResultPath": null,
       "isJsonSchema": true,
       "metadata": {
        "dataframeName": "_sqldf",
        "executionCount": 16
       },
       "overflow": false,
       "plotOptions": {
        "customPlotOptions": {},
        "displayType": "table",
        "pivotAggregation": null,
        "pivotColumns": null,
        "xColumns": null,
        "yColumns": null
       },
       "removedWidgets": [],
       "schema": [
        {
         "metadata": "{}",
         "name": "race_id",
         "type": "\"integer\""
        },
        {
         "metadata": "{}",
         "name": "race_year",
         "type": "\"integer\""
        },
        {
         "metadata": "{}",
         "name": "race_name",
         "type": "\"string\""
        },
        {
         "metadata": "{}",
         "name": "race_date",
         "type": "\"timestamp\""
        },
        {
         "metadata": "{}",
         "name": "circuit_location",
         "type": "\"string\""
        },
        {
         "metadata": "{}",
         "name": "driver_name",
         "type": "\"string\""
        },
        {
         "metadata": "{}",
         "name": "driver_number",
         "type": "\"integer\""
        },
        {
         "metadata": "{}",
         "name": "driver_nationality",
         "type": "\"string\""
        },
        {
         "metadata": "{}",
         "name": "team",
         "type": "\"string\""
        },
        {
         "metadata": "{}",
         "name": "grid",
         "type": "\"integer\""
        },
        {
         "metadata": "{}",
         "name": "fastest_lap",
         "type": "\"integer\""
        },
        {
         "metadata": "{}",
         "name": "race_time",
         "type": "\"string\""
        },
        {
         "metadata": "{}",
         "name": "points",
         "type": "\"float\""
        },
        {
         "metadata": "{}",
         "name": "position",
         "type": "\"integer\""
        },
        {
         "metadata": "{}",
         "name": "file_date",
         "type": "\"string\""
        },
        {
         "metadata": "{}",
         "name": "created_date",
         "type": "\"timestamp\""
        }
       ],
       "type": "table"
      }
     },
     "output_type": "display_data"
    }
   ],
   "source": [
    "%sql\n",
    "SELECT * FROM f1_presentation.race_results\n",
    "LIMIT 5;"
   ]
  },
  {
   "cell_type": "code",
   "execution_count": 0,
   "metadata": {
    "application/vnd.databricks.v1+cell": {
     "cellMetadata": {},
     "inputWidgets": {},
     "nuid": "c5efcc4e-e78d-4edd-88fd-470b53613dd5",
     "showTitle": false,
     "title": ""
    }
   },
   "outputs": [],
   "source": [
    "dbutils.notebook.exit(\"Success\")"
   ]
  }
 ],
 "metadata": {
  "application/vnd.databricks.v1+notebook": {
   "dashboards": [],
   "language": "python",
   "notebookMetadata": {
    "mostRecentlyExecutedCommandWithImplicitDF": {
     "commandId": 3550917229048632,
     "dataframes": [
      "_sqldf"
     ]
    },
    "pythonIndentUnit": 4
   },
   "notebookName": "1.race_results",
   "widgets": {
    "p_file_date": {
     "currentValue": "2021-03-21",
     "nuid": "9246dd9d-4b90-4d60-a887-5c94f3711cb8",
     "widgetInfo": {
      "widgetType": "text",
      "defaultValue": "2021-04-18",
      "label": null,
      "name": "p_file_date",
      "options": {
       "widgetType": "text",
       "autoCreated": null,
       "validationRegex": null
      }
     }
    }
   }
  }
 },
 "nbformat": 4,
 "nbformat_minor": 0
}
