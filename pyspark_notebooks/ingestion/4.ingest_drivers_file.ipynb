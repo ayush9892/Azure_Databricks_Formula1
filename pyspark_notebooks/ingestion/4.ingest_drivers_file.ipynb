{
 "cells": [
  {
   "cell_type": "markdown",
   "metadata": {
    "application/vnd.databricks.v1+cell": {
     "cellMetadata": {
      "byteLimit": 2048000,
      "rowLimit": 10000
     },
     "inputWidgets": {},
     "nuid": "cb693b21-a9a6-42f2-bc1d-041f237b6c26",
     "showTitle": false,
     "title": ""
    }
   },
   "source": [
    "### Ingest drivers.json file"
   ]
  },
  {
   "cell_type": "code",
   "execution_count": 0,
   "metadata": {
    "application/vnd.databricks.v1+cell": {
     "cellMetadata": {
      "byteLimit": 2048000,
      "rowLimit": 10000
     },
     "inputWidgets": {},
     "nuid": "88d19f50-4326-470f-9c8a-79730f1b5a6a",
     "showTitle": false,
     "title": ""
    }
   },
   "outputs": [],
   "source": [
    "%run \"../includes/configuration\""
   ]
  },
  {
   "cell_type": "code",
   "execution_count": 0,
   "metadata": {
    "application/vnd.databricks.v1+cell": {
     "cellMetadata": {
      "byteLimit": 2048000,
      "rowLimit": 10000
     },
     "inputWidgets": {},
     "nuid": "79eb3c8d-8e07-4bab-87a6-f80f228f16af",
     "showTitle": false,
     "title": ""
    }
   },
   "outputs": [],
   "source": [
    "%run \"../includes/common_functions\""
   ]
  },
  {
   "cell_type": "code",
   "execution_count": 0,
   "metadata": {
    "application/vnd.databricks.v1+cell": {
     "cellMetadata": {
      "byteLimit": 2048000,
      "rowLimit": 10000
     },
     "inputWidgets": {},
     "nuid": "ed29e34a-21e7-4e69-ab11-1e6c23f59d4e",
     "showTitle": false,
     "title": ""
    }
   },
   "outputs": [],
   "source": [
    "dbutils.widgets.text(\"p_data_source\", \"\")\n",
    "v_data_source = dbutils.widgets.get(\"p_data_source\")"
   ]
  },
  {
   "cell_type": "code",
   "execution_count": 0,
   "metadata": {
    "application/vnd.databricks.v1+cell": {
     "cellMetadata": {
      "byteLimit": 2048000,
      "rowLimit": 10000
     },
     "inputWidgets": {},
     "nuid": "ad64360f-1f74-4237-b414-0dfec8fc023c",
     "showTitle": false,
     "title": ""
    }
   },
   "outputs": [],
   "source": [
    "dbutils.widgets.text(\"p_file_date\", \"2021-03-21\")\n",
    "v_file_date = dbutils.widgets.get(\"p_file_date\")"
   ]
  },
  {
   "cell_type": "markdown",
   "metadata": {
    "application/vnd.databricks.v1+cell": {
     "cellMetadata": {
      "byteLimit": 2048000,
      "rowLimit": 10000
     },
     "inputWidgets": {},
     "nuid": "989ed51c-b7d1-446f-8235-d9cfad9090ab",
     "showTitle": false,
     "title": ""
    }
   },
   "source": [
    "##### Step 1 - Read the JOSN file uisng spark dataframe reader"
   ]
  },
  {
   "cell_type": "code",
   "execution_count": 0,
   "metadata": {
    "application/vnd.databricks.v1+cell": {
     "cellMetadata": {
      "byteLimit": 2048000,
      "rowLimit": 10000
     },
     "inputWidgets": {},
     "nuid": "a0267c62-84a1-418d-a40d-0d771b8e477e",
     "showTitle": false,
     "title": ""
    }
   },
   "outputs": [],
   "source": [
    "from pyspark.sql.types import StructType, StructField, IntegerType, StringType, DateType"
   ]
  },
  {
   "cell_type": "code",
   "execution_count": 0,
   "metadata": {
    "application/vnd.databricks.v1+cell": {
     "cellMetadata": {
      "byteLimit": 2048000,
      "rowLimit": 10000
     },
     "inputWidgets": {},
     "nuid": "1bb8cf6d-576c-45d4-8215-67661fd3c80d",
     "showTitle": false,
     "title": ""
    }
   },
   "outputs": [],
   "source": [
    "name_schema = StructType(fields = [StructField(\"forename\", StringType(), True),\n",
    "                                   StructField(\"surname\", StringType(), True)\n",
    "])"
   ]
  },
  {
   "cell_type": "code",
   "execution_count": 0,
   "metadata": {
    "application/vnd.databricks.v1+cell": {
     "cellMetadata": {
      "byteLimit": 2048000,
      "rowLimit": 10000
     },
     "inputWidgets": {},
     "nuid": "6f58be0c-fd3b-4e5f-a4d7-2a84009ec385",
     "showTitle": false,
     "title": ""
    }
   },
   "outputs": [],
   "source": [
    "drivers_schema = StructType(fields = [StructField(\"driverId\", IntegerType(), False),\n",
    "                                      StructField(\"driverRef\", StringType(), True),\n",
    "                                      StructField(\"number\", IntegerType(), True),\n",
    "                                      StructField(\"code\", StringType(), True),\n",
    "                                      StructField(\"name\", name_schema),\n",
    "                                      StructField(\"dob\", DateType(), True),\n",
    "                                      StructField(\"nationality\", StringType(), True),\n",
    "                                      StructField(\"url\", StringType(), True)\n",
    "])"
   ]
  },
  {
   "cell_type": "code",
   "execution_count": 0,
   "metadata": {
    "application/vnd.databricks.v1+cell": {
     "cellMetadata": {
      "byteLimit": 2048000,
      "rowLimit": 10000
     },
     "inputWidgets": {},
     "nuid": "8d19e13b-c08d-408d-9a8f-7178026df71b",
     "showTitle": false,
     "title": ""
    }
   },
   "outputs": [],
   "source": [
    "drivers_df = spark.read \\\n",
    "    .schema(drivers_schema) \\\n",
    "    .json(f\"{raw_folder_path}/{v_file_date}/drivers.json\")"
   ]
  },
  {
   "cell_type": "code",
   "execution_count": 0,
   "metadata": {
    "application/vnd.databricks.v1+cell": {
     "cellMetadata": {
      "byteLimit": 2048000,
      "rowLimit": 10000
     },
     "inputWidgets": {},
     "nuid": "4cc4e1ef-7836-4b3e-be80-075b6081a0db",
     "showTitle": false,
     "title": ""
    }
   },
   "outputs": [
    {
     "output_type": "stream",
     "name": "stdout",
     "output_type": "stream",
     "text": [
      "root\n |-- driverId: integer (nullable = true)\n |-- driverRef: string (nullable = true)\n |-- number: integer (nullable = true)\n |-- code: string (nullable = true)\n |-- name: struct (nullable = true)\n |    |-- forename: string (nullable = true)\n |    |-- surname: string (nullable = true)\n |-- dob: date (nullable = true)\n |-- nationality: string (nullable = true)\n |-- url: string (nullable = true)\n\n"
     ]
    }
   ],
   "source": [
    "# drivers_df.printSchema()"
   ]
  },
  {
   "cell_type": "code",
   "execution_count": 0,
   "metadata": {
    "application/vnd.databricks.v1+cell": {
     "cellMetadata": {
      "byteLimit": 2048000,
      "rowLimit": 10000
     },
     "inputWidgets": {},
     "nuid": "117d4253-f5b2-4939-af9b-b6fafe23a28b",
     "showTitle": false,
     "title": ""
    }
   },
   "outputs": [
    {
     "output_type": "display_data",
     "data": {
      "text/html": [
       "<style scoped>\n",
       "  .table-result-container {\n",
       "    max-height: 300px;\n",
       "    overflow: auto;\n",
       "  }\n",
       "  table, th, td {\n",
       "    border: 1px solid black;\n",
       "    border-collapse: collapse;\n",
       "  }\n",
       "  th, td {\n",
       "    padding: 5px;\n",
       "  }\n",
       "  th {\n",
       "    text-align: left;\n",
       "  }\n",
       "</style><div class='table-result-container'><table class='table-result'><thead style='background-color: white'><tr><th>driverId</th><th>driverRef</th><th>number</th><th>code</th><th>name</th><th>dob</th><th>nationality</th><th>url</th></tr></thead><tbody><tr><td>1</td><td>hamilton</td><td>44</td><td>HAM</td><td>List(Lewis, Hamilton)</td><td>1985-01-07</td><td>British</td><td>http://en.wikipedia.org/wiki/Lewis_Hamilton</td></tr><tr><td>2</td><td>heidfeld</td><td>null</td><td>HEI</td><td>List(Nick, Heidfeld)</td><td>1977-05-10</td><td>German</td><td>http://en.wikipedia.org/wiki/Nick_Heidfeld</td></tr><tr><td>3</td><td>rosberg</td><td>6</td><td>ROS</td><td>List(Nico, Rosberg)</td><td>1985-06-27</td><td>German</td><td>http://en.wikipedia.org/wiki/Nico_Rosberg</td></tr><tr><td>4</td><td>alonso</td><td>14</td><td>ALO</td><td>List(Fernando, Alonso)</td><td>1981-07-29</td><td>Spanish</td><td>http://en.wikipedia.org/wiki/Fernando_Alonso</td></tr><tr><td>5</td><td>kovalainen</td><td>null</td><td>KOV</td><td>List(Heikki, Kovalainen)</td><td>1981-10-19</td><td>Finnish</td><td>http://en.wikipedia.org/wiki/Heikki_Kovalainen</td></tr></tbody></table></div>"
      ]
     },
     "metadata": {
      "application/vnd.databricks.v1+output": {
       "addedWidgets": {},
       "aggData": [],
       "aggError": "",
       "aggOverflow": false,
       "aggSchema": [],
       "aggSeriesLimitReached": false,
       "aggType": "",
       "arguments": {},
       "columnCustomDisplayInfos": {},
       "data": [
        [
         1,
         "hamilton",
         44,
         "HAM",
         [
          "Lewis",
          "Hamilton"
         ],
         "1985-01-07",
         "British",
         "http://en.wikipedia.org/wiki/Lewis_Hamilton"
        ],
        [
         2,
         "heidfeld",
         null,
         "HEI",
         [
          "Nick",
          "Heidfeld"
         ],
         "1977-05-10",
         "German",
         "http://en.wikipedia.org/wiki/Nick_Heidfeld"
        ],
        [
         3,
         "rosberg",
         6,
         "ROS",
         [
          "Nico",
          "Rosberg"
         ],
         "1985-06-27",
         "German",
         "http://en.wikipedia.org/wiki/Nico_Rosberg"
        ],
        [
         4,
         "alonso",
         14,
         "ALO",
         [
          "Fernando",
          "Alonso"
         ],
         "1981-07-29",
         "Spanish",
         "http://en.wikipedia.org/wiki/Fernando_Alonso"
        ],
        [
         5,
         "kovalainen",
         null,
         "KOV",
         [
          "Heikki",
          "Kovalainen"
         ],
         "1981-10-19",
         "Finnish",
         "http://en.wikipedia.org/wiki/Heikki_Kovalainen"
        ]
       ],
       "datasetInfos": [],
       "dbfsResultPath": null,
       "isJsonSchema": true,
       "metadata": {},
       "overflow": false,
       "plotOptions": {
        "customPlotOptions": {},
        "displayType": "table",
        "pivotAggregation": null,
        "pivotColumns": null,
        "xColumns": null,
        "yColumns": null
       },
       "removedWidgets": [],
       "schema": [
        {
         "metadata": "{}",
         "name": "driverId",
         "type": "\"integer\""
        },
        {
         "metadata": "{}",
         "name": "driverRef",
         "type": "\"string\""
        },
        {
         "metadata": "{}",
         "name": "number",
         "type": "\"integer\""
        },
        {
         "metadata": "{}",
         "name": "code",
         "type": "\"string\""
        },
        {
         "metadata": "{}",
         "name": "name",
         "type": "{\"type\":\"struct\",\"fields\":[{\"name\":\"forename\",\"type\":\"string\",\"nullable\":true,\"metadata\":{}},{\"name\":\"surname\",\"type\":\"string\",\"nullable\":true,\"metadata\":{}}]}"
        },
        {
         "metadata": "{}",
         "name": "dob",
         "type": "\"date\""
        },
        {
         "metadata": "{}",
         "name": "nationality",
         "type": "\"string\""
        },
        {
         "metadata": "{}",
         "name": "url",
         "type": "\"string\""
        }
       ],
       "type": "table"
      }
     },
     "output_type": "display_data"
    }
   ],
   "source": [
    "# display(drivers_df.limit(5))"
   ]
  },
  {
   "cell_type": "markdown",
   "metadata": {
    "application/vnd.databricks.v1+cell": {
     "cellMetadata": {
      "byteLimit": 2048000,
      "rowLimit": 10000
     },
     "inputWidgets": {},
     "nuid": "ddc1fcd4-5628-45ac-8e28-b02129672458",
     "showTitle": false,
     "title": ""
    }
   },
   "source": [
    "##### Step 2 - Rename columns and add new columns\n",
    "1. driverId renamed to driver_id\n",
    "1. driverRef renamed to driver_ref\n",
    "1. ingestion date added\n",
    "1. name added with concationation of forname and surname"
   ]
  },
  {
   "cell_type": "code",
   "execution_count": 0,
   "metadata": {
    "application/vnd.databricks.v1+cell": {
     "cellMetadata": {
      "byteLimit": 2048000,
      "rowLimit": 10000
     },
     "inputWidgets": {},
     "nuid": "1061114f-f09e-40c1-90e2-9209ca27c0be",
     "showTitle": false,
     "title": ""
    }
   },
   "outputs": [],
   "source": [
    "from pyspark.sql.functions import col, concat, lit"
   ]
  },
  {
   "cell_type": "code",
   "execution_count": 0,
   "metadata": {
    "application/vnd.databricks.v1+cell": {
     "cellMetadata": {
      "byteLimit": 2048000,
      "rowLimit": 10000
     },
     "inputWidgets": {},
     "nuid": "739867bc-fbaf-4db9-9591-8a186d31042e",
     "showTitle": false,
     "title": ""
    }
   },
   "outputs": [],
   "source": [
    "drivers_with_columns_df = add_ingestion_date(drivers_df) \\\n",
    "    .withColumnRenamed('driverId', 'driver_id') \\\n",
    "    .withColumnRenamed('driverRef', 'driver_ref') \\\n",
    "    .withColumn('name', concat(col(\"name.forename\"), lit(\" \"), col(\"name.surname\"))) \\\n",
    "    .withColumn(\"data_source\", lit(v_data_source)) \\\n",
    "    .withColumn(\"file_date\", lit(v_file_date))\n"
   ]
  },
  {
   "cell_type": "markdown",
   "metadata": {
    "application/vnd.databricks.v1+cell": {
     "cellMetadata": {
      "byteLimit": 2048000,
      "rowLimit": 10000
     },
     "inputWidgets": {},
     "nuid": "3fe958bb-24e4-4587-8858-80f0ebb76cf8",
     "showTitle": false,
     "title": ""
    }
   },
   "source": [
    "##### Step 3 - Drop the unwanted columns"
   ]
  },
  {
   "cell_type": "code",
   "execution_count": 0,
   "metadata": {
    "application/vnd.databricks.v1+cell": {
     "cellMetadata": {
      "byteLimit": 2048000,
      "rowLimit": 10000
     },
     "inputWidgets": {},
     "nuid": "5d43791f-8f9b-4ddb-b0e1-df25fa5151c0",
     "showTitle": false,
     "title": ""
    }
   },
   "outputs": [],
   "source": [
    "drivers_final_df = drivers_with_columns_df.drop(col('url'))"
   ]
  },
  {
   "cell_type": "markdown",
   "metadata": {
    "application/vnd.databricks.v1+cell": {
     "cellMetadata": {
      "byteLimit": 2048000,
      "rowLimit": 10000
     },
     "inputWidgets": {},
     "nuid": "5a803cc0-dce2-437e-941a-71fa7d8fc282",
     "showTitle": false,
     "title": ""
    }
   },
   "source": [
    "##### Step 4 - Write the output to processed container"
   ]
  },
  {
   "cell_type": "code",
   "execution_count": 0,
   "metadata": {
    "application/vnd.databricks.v1+cell": {
     "cellMetadata": {
      "byteLimit": 2048000,
      "rowLimit": 10000
     },
     "inputWidgets": {},
     "nuid": "183e7e25-b5ef-4890-a63f-dc1f6b987840",
     "showTitle": false,
     "title": ""
    }
   },
   "outputs": [
    {
     "output_type": "display_data",
     "data": {
      "text/plain": [
       ""
      ]
     },
     "metadata": {
      "application/vnd.databricks.v1+output": {
       "arguments": {},
       "data": "",
       "errorSummary": "Command skipped",
       "errorTraceType": "ansi",
       "metadata": {},
       "type": "ipynbError"
      }
     },
     "output_type": "display_data"
    }
   ],
   "source": [
    "drivers_final_df.write.mode('overwrite').format('delta').saveAsTable('f1_processed.drivers')"
   ]
  },
  {
   "cell_type": "code",
   "execution_count": 0,
   "metadata": {
    "application/vnd.databricks.v1+cell": {
     "cellMetadata": {
      "byteLimit": 2048000,
      "implicitDf": true,
      "rowLimit": 10000
     },
     "inputWidgets": {},
     "nuid": "7ff07919-d5bc-4851-8b73-eff63027f91d",
     "showTitle": false,
     "title": ""
    }
   },
   "outputs": [
    {
     "output_type": "display_data",
     "data": {
      "text/html": [
       "<style scoped>\n",
       "  .table-result-container {\n",
       "    max-height: 300px;\n",
       "    overflow: auto;\n",
       "  }\n",
       "  table, th, td {\n",
       "    border: 1px solid black;\n",
       "    border-collapse: collapse;\n",
       "  }\n",
       "  th, td {\n",
       "    padding: 5px;\n",
       "  }\n",
       "  th {\n",
       "    text-align: left;\n",
       "  }\n",
       "</style><div class='table-result-container'><table class='table-result'><thead style='background-color: white'><tr><th>driver_id</th><th>driver_ref</th><th>number</th><th>code</th><th>name</th><th>dob</th><th>nationality</th><th>ingestion_date</th><th>data_source</th><th>file_date</th></tr></thead><tbody><tr><td>1</td><td>hamilton</td><td>44</td><td>HAM</td><td>Lewis Hamilton</td><td>1985-01-07</td><td>British</td><td>2023-12-22T11:00:51.217Z</td><td>Ergast</td><td>2021-04-18</td></tr><tr><td>2</td><td>heidfeld</td><td>null</td><td>HEI</td><td>Nick Heidfeld</td><td>1977-05-10</td><td>German</td><td>2023-12-22T11:00:51.217Z</td><td>Ergast</td><td>2021-04-18</td></tr><tr><td>3</td><td>rosberg</td><td>6</td><td>ROS</td><td>Nico Rosberg</td><td>1985-06-27</td><td>German</td><td>2023-12-22T11:00:51.217Z</td><td>Ergast</td><td>2021-04-18</td></tr><tr><td>4</td><td>alonso</td><td>14</td><td>ALO</td><td>Fernando Alonso</td><td>1981-07-29</td><td>Spanish</td><td>2023-12-22T11:00:51.217Z</td><td>Ergast</td><td>2021-04-18</td></tr><tr><td>5</td><td>kovalainen</td><td>null</td><td>KOV</td><td>Heikki Kovalainen</td><td>1981-10-19</td><td>Finnish</td><td>2023-12-22T11:00:51.217Z</td><td>Ergast</td><td>2021-04-18</td></tr></tbody></table></div>"
      ]
     },
     "metadata": {
      "application/vnd.databricks.v1+output": {
       "addedWidgets": {},
       "aggData": [],
       "aggError": "",
       "aggOverflow": false,
       "aggSchema": [],
       "aggSeriesLimitReached": false,
       "aggType": "",
       "arguments": {},
       "columnCustomDisplayInfos": {},
       "data": [
        [
         1,
         "hamilton",
         44,
         "HAM",
         "Lewis Hamilton",
         "1985-01-07",
         "British",
         "2023-12-22T11:00:51.217Z",
         "Ergast",
         "2021-04-18"
        ],
        [
         2,
         "heidfeld",
         null,
         "HEI",
         "Nick Heidfeld",
         "1977-05-10",
         "German",
         "2023-12-22T11:00:51.217Z",
         "Ergast",
         "2021-04-18"
        ],
        [
         3,
         "rosberg",
         6,
         "ROS",
         "Nico Rosberg",
         "1985-06-27",
         "German",
         "2023-12-22T11:00:51.217Z",
         "Ergast",
         "2021-04-18"
        ],
        [
         4,
         "alonso",
         14,
         "ALO",
         "Fernando Alonso",
         "1981-07-29",
         "Spanish",
         "2023-12-22T11:00:51.217Z",
         "Ergast",
         "2021-04-18"
        ],
        [
         5,
         "kovalainen",
         null,
         "KOV",
         "Heikki Kovalainen",
         "1981-10-19",
         "Finnish",
         "2023-12-22T11:00:51.217Z",
         "Ergast",
         "2021-04-18"
        ]
       ],
       "datasetInfos": [],
       "dbfsResultPath": null,
       "isJsonSchema": true,
       "metadata": {
        "dataframeName": "_sqldf",
        "executionCount": 11
       },
       "overflow": false,
       "plotOptions": {
        "customPlotOptions": {},
        "displayType": "table",
        "pivotAggregation": null,
        "pivotColumns": null,
        "xColumns": null,
        "yColumns": null
       },
       "removedWidgets": [],
       "schema": [
        {
         "metadata": "{}",
         "name": "driver_id",
         "type": "\"integer\""
        },
        {
         "metadata": "{}",
         "name": "driver_ref",
         "type": "\"string\""
        },
        {
         "metadata": "{}",
         "name": "number",
         "type": "\"integer\""
        },
        {
         "metadata": "{}",
         "name": "code",
         "type": "\"string\""
        },
        {
         "metadata": "{}",
         "name": "name",
         "type": "\"string\""
        },
        {
         "metadata": "{}",
         "name": "dob",
         "type": "\"date\""
        },
        {
         "metadata": "{}",
         "name": "nationality",
         "type": "\"string\""
        },
        {
         "metadata": "{}",
         "name": "ingestion_date",
         "type": "\"timestamp\""
        },
        {
         "metadata": "{}",
         "name": "data_source",
         "type": "\"string\""
        },
        {
         "metadata": "{}",
         "name": "file_date",
         "type": "\"string\""
        }
       ],
       "type": "table"
      }
     },
     "output_type": "display_data"
    }
   ],
   "source": [
    "%sql\n",
    "SELECT * FROM f1_processed.drivers\n",
    "LIMIT 5;"
   ]
  },
  {
   "cell_type": "code",
   "execution_count": 0,
   "metadata": {
    "application/vnd.databricks.v1+cell": {
     "cellMetadata": {
      "byteLimit": 2048000,
      "rowLimit": 10000
     },
     "inputWidgets": {},
     "nuid": "8122a8ac-050c-4237-8515-fa26b4b0530f",
     "showTitle": false,
     "title": ""
    }
   },
   "outputs": [],
   "source": [
    "dbutils.notebook.exit(\"Success\")"
   ]
  }
 ],
 "metadata": {
  "application/vnd.databricks.v1+notebook": {
   "dashboards": [],
   "language": "python",
   "notebookMetadata": {
    "mostRecentlyExecutedCommandWithImplicitDF": {
     "commandId": 3550917229048962,
     "dataframes": [
      "_sqldf"
     ]
    },
    "pythonIndentUnit": 4
   },
   "notebookName": "4.ingest_drivers_file",
   "widgets": {
    "p_data_source": {
     "currentValue": "Ergast API",
     "nuid": "155568c8-b9aa-4fe8-b129-5c482d1e422c",
     "widgetInfo": {
      "widgetType": "text",
      "defaultValue": "",
      "label": null,
      "name": "p_data_source",
      "options": {
       "widgetType": "text",
       "autoCreated": null,
       "validationRegex": null
      }
     }
    },
    "p_file_date": {
     "currentValue": "2021-03-28",
     "nuid": "0c743f79-3d0a-409f-9bac-ba748b38ab53",
     "widgetInfo": {
      "widgetType": "text",
      "defaultValue": "2021-03-21",
      "label": null,
      "name": "p_file_date",
      "options": {
       "widgetType": "text",
       "autoCreated": null,
       "validationRegex": null
      }
     }
    }
   }
  }
 },
 "nbformat": 4,
 "nbformat_minor": 0
}
