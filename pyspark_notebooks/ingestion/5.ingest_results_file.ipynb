{
 "cells": [
  {
   "cell_type": "markdown",
   "metadata": {
    "application/vnd.databricks.v1+cell": {
     "cellMetadata": {
      "byteLimit": 2048000,
      "rowLimit": 10000
     },
     "inputWidgets": {},
     "nuid": "ea907265-b5c7-40a7-9675-1f95753c0274",
     "showTitle": false,
     "title": ""
    }
   },
   "source": [
    "### Ingest results.json file"
   ]
  },
  {
   "cell_type": "code",
   "execution_count": 0,
   "metadata": {
    "application/vnd.databricks.v1+cell": {
     "cellMetadata": {
      "byteLimit": 2048000,
      "rowLimit": 10000
     },
     "inputWidgets": {},
     "nuid": "392b4cce-f630-40d2-acde-f1e200043db8",
     "showTitle": false,
     "title": ""
    }
   },
   "outputs": [],
   "source": [
    "%run \"../includes/configuration\""
   ]
  },
  {
   "cell_type": "code",
   "execution_count": 0,
   "metadata": {
    "application/vnd.databricks.v1+cell": {
     "cellMetadata": {
      "byteLimit": 2048000,
      "rowLimit": 10000
     },
     "inputWidgets": {},
     "nuid": "2dec3025-81c7-4c98-92e0-b490465c7013",
     "showTitle": false,
     "title": ""
    }
   },
   "outputs": [],
   "source": [
    "%run \"../includes/common_functions\""
   ]
  },
  {
   "cell_type": "code",
   "execution_count": 0,
   "metadata": {
    "application/vnd.databricks.v1+cell": {
     "cellMetadata": {
      "byteLimit": 2048000,
      "rowLimit": 10000
     },
     "inputWidgets": {},
     "nuid": "e51ad492-86be-45af-9387-339d3ff2ad08",
     "showTitle": false,
     "title": ""
    }
   },
   "outputs": [],
   "source": [
    "dbutils.widgets.text(\"p_data_source\", \"\")\n",
    "v_data_source = dbutils.widgets.get(\"p_data_source\")"
   ]
  },
  {
   "cell_type": "code",
   "execution_count": 0,
   "metadata": {
    "application/vnd.databricks.v1+cell": {
     "cellMetadata": {
      "byteLimit": 2048000,
      "rowLimit": 10000
     },
     "inputWidgets": {},
     "nuid": "af206f63-02c7-4f19-a35d-e2d6996f4b70",
     "showTitle": false,
     "title": ""
    }
   },
   "outputs": [],
   "source": [
    "dbutils.widgets.text(\"p_file_date\", \"2021-03-21\")\n",
    "v_file_date = dbutils.widgets.get(\"p_file_date\")"
   ]
  },
  {
   "cell_type": "markdown",
   "metadata": {
    "application/vnd.databricks.v1+cell": {
     "cellMetadata": {
      "byteLimit": 2048000,
      "rowLimit": 10000
     },
     "inputWidgets": {},
     "nuid": "e2c879c1-f01d-4c0c-9e9c-4296e73e9ff9",
     "showTitle": false,
     "title": ""
    }
   },
   "source": [
    "##### Step 1 - Read the JOSN file uisng spark dataframe reader"
   ]
  },
  {
   "cell_type": "code",
   "execution_count": 0,
   "metadata": {
    "application/vnd.databricks.v1+cell": {
     "cellMetadata": {
      "byteLimit": 2048000,
      "rowLimit": 10000
     },
     "inputWidgets": {},
     "nuid": "d0d5c40c-f97d-4f20-8086-8b9abddba94d",
     "showTitle": false,
     "title": ""
    }
   },
   "outputs": [],
   "source": [
    "from pyspark.sql.types import StructType, StructField, IntegerType, FloatType, StringType"
   ]
  },
  {
   "cell_type": "code",
   "execution_count": 0,
   "metadata": {
    "application/vnd.databricks.v1+cell": {
     "cellMetadata": {
      "byteLimit": 2048000,
      "rowLimit": 10000
     },
     "inputWidgets": {},
     "nuid": "9e2bd79c-8921-44b3-bd8f-d71f0c0b37c3",
     "showTitle": false,
     "title": ""
    }
   },
   "outputs": [],
   "source": [
    "results_schema = StructType(fields = [StructField(\"resultId\", IntegerType(), False),\n",
    "                                      StructField(\"raceId\", IntegerType(), False),\n",
    "                                      StructField(\"driverId\", IntegerType(), False),\n",
    "                                      StructField(\"constructorId\", IntegerType(), False),\n",
    "                                      StructField(\"number\", IntegerType(), True),\n",
    "                                      StructField(\"grid\", IntegerType(), False),\n",
    "                                      StructField(\"position\", IntegerType(), True),\n",
    "                                      StructField(\"positionText\", StringType(), False),\n",
    "                                      StructField(\"positionOrder\", IntegerType(), False),\n",
    "                                      StructField(\"points\", FloatType(), False),\n",
    "                                      StructField(\"laps\", IntegerType(), False),\n",
    "                                      StructField(\"time\", StringType(), True),\n",
    "                                      StructField(\"milliseconds\", IntegerType(), True),\n",
    "                                      StructField(\"fastestLap\", IntegerType(), True),\n",
    "                                      StructField(\"rank\", IntegerType(), True),\n",
    "                                      StructField(\"fastestLapTime\", StringType(), True),\n",
    "                                      StructField(\"fastestLapSpeed\", StringType(), True),\n",
    "                                      StructField(\"statusId\", IntegerType(), False)\n",
    "])"
   ]
  },
  {
   "cell_type": "code",
   "execution_count": 0,
   "metadata": {
    "application/vnd.databricks.v1+cell": {
     "cellMetadata": {
      "byteLimit": 2048000,
      "rowLimit": 10000
     },
     "inputWidgets": {},
     "nuid": "f4e09d24-7c18-4f5a-a892-90c73588c808",
     "showTitle": false,
     "title": ""
    }
   },
   "outputs": [],
   "source": [
    "results_df = spark.read \\\n",
    "    .schema(results_schema) \\\n",
    "    .json(f\"{raw_folder_path}/{v_file_date}/results.json\")"
   ]
  },
  {
   "cell_type": "code",
   "execution_count": 0,
   "metadata": {
    "application/vnd.databricks.v1+cell": {
     "cellMetadata": {
      "byteLimit": 2048000,
      "rowLimit": 10000
     },
     "inputWidgets": {},
     "nuid": "6f82df4d-7b91-4802-b7c7-307005446d31",
     "showTitle": false,
     "title": ""
    }
   },
   "outputs": [
    {
     "output_type": "stream",
     "name": "stdout",
     "output_type": "stream",
     "text": [
      "root\n |-- resultId: integer (nullable = true)\n |-- raceId: integer (nullable = true)\n |-- driverId: integer (nullable = true)\n |-- constructorId: integer (nullable = true)\n |-- number: integer (nullable = true)\n |-- grid: integer (nullable = true)\n |-- position: integer (nullable = true)\n |-- positionText: string (nullable = true)\n |-- positionOrder: integer (nullable = true)\n |-- points: float (nullable = true)\n |-- laps: integer (nullable = true)\n |-- time: string (nullable = true)\n |-- milliseconds: integer (nullable = true)\n |-- fastestLap: integer (nullable = true)\n |-- rank: integer (nullable = true)\n |-- fastestLapTime: string (nullable = true)\n |-- fastestLapSpeed: string (nullable = true)\n |-- statusId: integer (nullable = true)\n\n"
     ]
    }
   ],
   "source": [
    "# results_df.printSchema()"
   ]
  },
  {
   "cell_type": "code",
   "execution_count": 0,
   "metadata": {
    "application/vnd.databricks.v1+cell": {
     "cellMetadata": {
      "byteLimit": 2048000,
      "rowLimit": 10000
     },
     "inputWidgets": {},
     "nuid": "f72301fb-8a75-4189-b4f8-0cd7c06990dc",
     "showTitle": false,
     "title": ""
    }
   },
   "outputs": [
    {
     "output_type": "display_data",
     "data": {
      "text/html": [
       "<style scoped>\n",
       "  .table-result-container {\n",
       "    max-height: 300px;\n",
       "    overflow: auto;\n",
       "  }\n",
       "  table, th, td {\n",
       "    border: 1px solid black;\n",
       "    border-collapse: collapse;\n",
       "  }\n",
       "  th, td {\n",
       "    padding: 5px;\n",
       "  }\n",
       "  th {\n",
       "    text-align: left;\n",
       "  }\n",
       "</style><div class='table-result-container'><table class='table-result'><thead style='background-color: white'><tr><th>resultId</th><th>raceId</th><th>driverId</th><th>constructorId</th><th>number</th><th>grid</th><th>position</th><th>positionText</th><th>positionOrder</th><th>points</th><th>laps</th><th>time</th><th>milliseconds</th><th>fastestLap</th><th>rank</th><th>fastestLapTime</th><th>fastestLapSpeed</th><th>statusId</th></tr></thead><tbody><tr><td>24986</td><td>1053</td><td>830</td><td>9</td><td>33</td><td>3</td><td>1</td><td>1</td><td>1</td><td>25.0</td><td>63</td><td>2:02:34.598</td><td>7354598</td><td>60</td><td>2</td><td>1:17.524</td><td>227.96</td><td>1</td></tr><tr><td>24987</td><td>1053</td><td>1</td><td>131</td><td>44</td><td>1</td><td>2</td><td>2</td><td>2</td><td>19.0</td><td>63</td><td>+22.000</td><td>7376598</td><td>60</td><td>1</td><td>1:16.702</td><td>230.403</td><td>1</td></tr><tr><td>24988</td><td>1053</td><td>846</td><td>1</td><td>4</td><td>7</td><td>3</td><td>3</td><td>3</td><td>15.0</td><td>63</td><td>+23.702</td><td>7378300</td><td>63</td><td>3</td><td>1:18.259</td><td>225.819</td><td>1</td></tr><tr><td>24989</td><td>1053</td><td>844</td><td>6</td><td>16</td><td>4</td><td>4</td><td>4</td><td>4</td><td>12.0</td><td>63</td><td>+25.579</td><td>7380177</td><td>60</td><td>6</td><td>1:18.379</td><td>225.473</td><td>1</td></tr><tr><td>24990</td><td>1053</td><td>832</td><td>6</td><td>55</td><td>11</td><td>5</td><td>5</td><td>5</td><td>10.0</td><td>63</td><td>+27.036</td><td>7381634</td><td>60</td><td>7</td><td>1:18.490</td><td>225.154</td><td>1</td></tr></tbody></table></div>"
      ]
     },
     "metadata": {
      "application/vnd.databricks.v1+output": {
       "addedWidgets": {},
       "aggData": [],
       "aggError": "",
       "aggOverflow": false,
       "aggSchema": [],
       "aggSeriesLimitReached": false,
       "aggType": "",
       "arguments": {},
       "columnCustomDisplayInfos": {},
       "data": [
        [
         24986,
         1053,
         830,
         9,
         33,
         3,
         1,
         "1",
         1,
         25.0,
         63,
         "2:02:34.598",
         7354598,
         60,
         2,
         "1:17.524",
         "227.96",
         1
        ],
        [
         24987,
         1053,
         1,
         131,
         44,
         1,
         2,
         "2",
         2,
         19.0,
         63,
         "+22.000",
         7376598,
         60,
         1,
         "1:16.702",
         "230.403",
         1
        ],
        [
         24988,
         1053,
         846,
         1,
         4,
         7,
         3,
         "3",
         3,
         15.0,
         63,
         "+23.702",
         7378300,
         63,
         3,
         "1:18.259",
         "225.819",
         1
        ],
        [
         24989,
         1053,
         844,
         6,
         16,
         4,
         4,
         "4",
         4,
         12.0,
         63,
         "+25.579",
         7380177,
         60,
         6,
         "1:18.379",
         "225.473",
         1
        ],
        [
         24990,
         1053,
         832,
         6,
         55,
         11,
         5,
         "5",
         5,
         10.0,
         63,
         "+27.036",
         7381634,
         60,
         7,
         "1:18.490",
         "225.154",
         1
        ]
       ],
       "datasetInfos": [],
       "dbfsResultPath": null,
       "isJsonSchema": true,
       "metadata": {},
       "overflow": false,
       "plotOptions": {
        "customPlotOptions": {},
        "displayType": "table",
        "pivotAggregation": null,
        "pivotColumns": null,
        "xColumns": null,
        "yColumns": null
       },
       "removedWidgets": [],
       "schema": [
        {
         "metadata": "{}",
         "name": "resultId",
         "type": "\"integer\""
        },
        {
         "metadata": "{}",
         "name": "raceId",
         "type": "\"integer\""
        },
        {
         "metadata": "{}",
         "name": "driverId",
         "type": "\"integer\""
        },
        {
         "metadata": "{}",
         "name": "constructorId",
         "type": "\"integer\""
        },
        {
         "metadata": "{}",
         "name": "number",
         "type": "\"integer\""
        },
        {
         "metadata": "{}",
         "name": "grid",
         "type": "\"integer\""
        },
        {
         "metadata": "{}",
         "name": "position",
         "type": "\"integer\""
        },
        {
         "metadata": "{}",
         "name": "positionText",
         "type": "\"string\""
        },
        {
         "metadata": "{}",
         "name": "positionOrder",
         "type": "\"integer\""
        },
        {
         "metadata": "{}",
         "name": "points",
         "type": "\"float\""
        },
        {
         "metadata": "{}",
         "name": "laps",
         "type": "\"integer\""
        },
        {
         "metadata": "{}",
         "name": "time",
         "type": "\"string\""
        },
        {
         "metadata": "{}",
         "name": "milliseconds",
         "type": "\"integer\""
        },
        {
         "metadata": "{}",
         "name": "fastestLap",
         "type": "\"integer\""
        },
        {
         "metadata": "{}",
         "name": "rank",
         "type": "\"integer\""
        },
        {
         "metadata": "{}",
         "name": "fastestLapTime",
         "type": "\"string\""
        },
        {
         "metadata": "{}",
         "name": "fastestLapSpeed",
         "type": "\"string\""
        },
        {
         "metadata": "{}",
         "name": "statusId",
         "type": "\"integer\""
        }
       ],
       "type": "table"
      }
     },
     "output_type": "display_data"
    }
   ],
   "source": [
    "# display(results_df.limit(5))"
   ]
  },
  {
   "cell_type": "markdown",
   "metadata": {
    "application/vnd.databricks.v1+cell": {
     "cellMetadata": {
      "byteLimit": 2048000,
      "rowLimit": 10000
     },
     "inputWidgets": {},
     "nuid": "0e0fe333-a767-42b2-969d-bbc959d1bdcd",
     "showTitle": false,
     "title": ""
    }
   },
   "source": [
    "##### Step 2 - Rename columns and add new columns"
   ]
  },
  {
   "cell_type": "code",
   "execution_count": 0,
   "metadata": {
    "application/vnd.databricks.v1+cell": {
     "cellMetadata": {
      "byteLimit": 2048000,
      "rowLimit": 10000
     },
     "inputWidgets": {},
     "nuid": "4cafc0f7-9f28-443b-b19b-565bcfad8194",
     "showTitle": false,
     "title": ""
    }
   },
   "outputs": [],
   "source": [
    "from pyspark.sql.functions import col, lit"
   ]
  },
  {
   "cell_type": "code",
   "execution_count": 0,
   "metadata": {
    "application/vnd.databricks.v1+cell": {
     "cellMetadata": {
      "byteLimit": 2048000,
      "rowLimit": 10000
     },
     "inputWidgets": {},
     "nuid": "2201d7db-5203-4d15-8347-337b7c941e49",
     "showTitle": false,
     "title": ""
    }
   },
   "outputs": [],
   "source": [
    "results_with_columns_df = add_ingestion_date(results_df) \\\n",
    "    .withColumnRenamed(\"resultId\", \"result_id\") \\\n",
    "    .withColumnRenamed(\"resultId\", \"result_id\") \\\n",
    "    .withColumnRenamed(\"raceId\", \"race_id\") \\\n",
    "    .withColumnRenamed(\"driverId\", \"driver_id\") \\\n",
    "    .withColumnRenamed(\"constructorId\", \"constructor_id\") \\\n",
    "    .withColumnRenamed(\"positionText\", \"position_text\") \\\n",
    "    .withColumnRenamed(\"positionOrder\", \"position_order\") \\\n",
    "    .withColumnRenamed(\"fastestLap\", \"fastest_lap\") \\\n",
    "    .withColumnRenamed(\"fastestLapTime\", \"fastest_lap_time\") \\\n",
    "    .withColumnRenamed(\"fastestLapSpeed\", \"fastest_lap_speed\") \\\n",
    "    .withColumn(\"data_source\", lit(v_data_source)) \\\n",
    "    .withColumn(\"file_date\", lit(v_file_date))"
   ]
  },
  {
   "cell_type": "markdown",
   "metadata": {
    "application/vnd.databricks.v1+cell": {
     "cellMetadata": {
      "byteLimit": 2048000,
      "rowLimit": 10000
     },
     "inputWidgets": {},
     "nuid": "86db84d5-5f64-46ee-b70b-ef037a6a6dd2",
     "showTitle": false,
     "title": ""
    }
   },
   "source": [
    "##### Step 3 - Drop the unwanted columns"
   ]
  },
  {
   "cell_type": "code",
   "execution_count": 0,
   "metadata": {
    "application/vnd.databricks.v1+cell": {
     "cellMetadata": {
      "byteLimit": 2048000,
      "rowLimit": 10000
     },
     "inputWidgets": {},
     "nuid": "86ac0808-60a7-4bd4-9bae-b7d5726b03d4",
     "showTitle": false,
     "title": ""
    }
   },
   "outputs": [],
   "source": [
    "results_final_df = results_with_columns_df.drop(col(\"statusId\"))"
   ]
  },
  {
   "cell_type": "markdown",
   "metadata": {
    "application/vnd.databricks.v1+cell": {
     "cellMetadata": {
      "byteLimit": 2048000,
      "rowLimit": 10000
     },
     "inputWidgets": {},
     "nuid": "71318f02-d3b6-4dc9-9885-f5ed558ae443",
     "showTitle": false,
     "title": ""
    }
   },
   "source": [
    "#### De-dupe the dataframe"
   ]
  },
  {
   "cell_type": "markdown",
   "metadata": {
    "application/vnd.databricks.v1+cell": {
     "cellMetadata": {
      "byteLimit": 2048000,
      "rowLimit": 10000
     },
     "inputWidgets": {},
     "nuid": "08fe9645-6cc2-4466-9be4-629297509e8f",
     "showTitle": false,
     "title": ""
    }
   },
   "source": [
    "- Here we are droping this because, in 2021-03-21 have duplicates data."
   ]
  },
  {
   "cell_type": "code",
   "execution_count": 0,
   "metadata": {
    "application/vnd.databricks.v1+cell": {
     "cellMetadata": {
      "byteLimit": 2048000,
      "rowLimit": 10000
     },
     "inputWidgets": {},
     "nuid": "d51dfbf9-ecf7-4d28-ae2a-492fa445e5b4",
     "showTitle": false,
     "title": ""
    }
   },
   "outputs": [],
   "source": [
    "results_dedupped_df = results_final_df.dropDuplicates(['race_id', 'driver_id'])\n",
    "# It deletes the duplicate data, who have same details 'race_id' and 'driver_id' more than 1."
   ]
  },
  {
   "cell_type": "markdown",
   "metadata": {
    "application/vnd.databricks.v1+cell": {
     "cellMetadata": {
      "byteLimit": 2048000,
      "rowLimit": 10000
     },
     "inputWidgets": {},
     "nuid": "b9c218bc-66bb-48bb-bd98-4ea10706a3c9",
     "showTitle": false,
     "title": ""
    }
   },
   "source": [
    "##### Step 4 - Write the output to processed container"
   ]
  },
  {
   "cell_type": "code",
   "execution_count": 0,
   "metadata": {
    "application/vnd.databricks.v1+cell": {
     "cellMetadata": {
      "byteLimit": 2048000,
      "rowLimit": 10000
     },
     "inputWidgets": {},
     "nuid": "62f6443f-a464-40b3-8b28-f7a855f1a408",
     "showTitle": false,
     "title": ""
    }
   },
   "outputs": [],
   "source": [
    "merge_condition = \"tgt.result_id = src.result_id AND tgt.race_id = src.race_id\"\n",
    "merge_delta_deta(results_dedupped_df, \"f1_processed\", \"results\", processed_folder_path, merge_condition, \"race_id\")"
   ]
  },
  {
   "cell_type": "code",
   "execution_count": 0,
   "metadata": {
    "application/vnd.databricks.v1+cell": {
     "cellMetadata": {
      "byteLimit": 2048000,
      "implicitDf": true,
      "rowLimit": 10000
     },
     "inputWidgets": {},
     "nuid": "e9d70083-c0a9-422b-a8ab-0c3edf4fe82a",
     "showTitle": false,
     "title": ""
    }
   },
   "outputs": [
    {
     "output_type": "display_data",
     "data": {
      "text/html": [
       "<style scoped>\n",
       "  .table-result-container {\n",
       "    max-height: 300px;\n",
       "    overflow: auto;\n",
       "  }\n",
       "  table, th, td {\n",
       "    border: 1px solid black;\n",
       "    border-collapse: collapse;\n",
       "  }\n",
       "  th, td {\n",
       "    padding: 5px;\n",
       "  }\n",
       "  th {\n",
       "    text-align: left;\n",
       "  }\n",
       "</style><div class='table-result-container'><table class='table-result'><thead style='background-color: white'><tr><th>race_id</th><th>driver_id</th><th>count(1)</th></tr></thead><tbody></tbody></table></div>"
      ]
     },
     "metadata": {
      "application/vnd.databricks.v1+output": {
       "addedWidgets": {},
       "aggData": [],
       "aggError": "",
       "aggOverflow": false,
       "aggSchema": [],
       "aggSeriesLimitReached": false,
       "aggType": "",
       "arguments": {},
       "columnCustomDisplayInfos": {},
       "data": [],
       "datasetInfos": [],
       "dbfsResultPath": null,
       "isJsonSchema": true,
       "metadata": {
        "dataframeName": "_sqldf",
        "executionCount": 60
       },
       "overflow": false,
       "plotOptions": {
        "customPlotOptions": {},
        "displayType": "table",
        "pivotAggregation": null,
        "pivotColumns": null,
        "xColumns": null,
        "yColumns": null
       },
       "removedWidgets": [],
       "schema": [
        {
         "metadata": "{}",
         "name": "race_id",
         "type": "\"integer\""
        },
        {
         "metadata": "{}",
         "name": "driver_id",
         "type": "\"integer\""
        },
        {
         "metadata": "{\"__autoGeneratedAlias\":\"true\"}",
         "name": "count(1)",
         "type": "\"long\""
        }
       ],
       "type": "table"
      }
     },
     "output_type": "display_data"
    }
   ],
   "source": [
    "# %sql\n",
    "# SELECT race_id, driver_id, COUNT(1)\n",
    "# FROM f1_processed.results\n",
    "# GROUP BY race_id, driver_id\n",
    "# HAVING COUNT(1)>1\n",
    "# ORDER BY race_id, driver_id DESC "
   ]
  },
  {
   "cell_type": "code",
   "execution_count": 0,
   "metadata": {
    "application/vnd.databricks.v1+cell": {
     "cellMetadata": {
      "byteLimit": 2048000,
      "implicitDf": true,
      "rowLimit": 10000
     },
     "inputWidgets": {},
     "nuid": "8e0fb666-a464-43b0-85b6-99f208886580",
     "showTitle": false,
     "title": ""
    }
   },
   "outputs": [
    {
     "output_type": "display_data",
     "data": {
      "text/html": [
       "<style scoped>\n",
       "  .table-result-container {\n",
       "    max-height: 300px;\n",
       "    overflow: auto;\n",
       "  }\n",
       "  table, th, td {\n",
       "    border: 1px solid black;\n",
       "    border-collapse: collapse;\n",
       "  }\n",
       "  th, td {\n",
       "    padding: 5px;\n",
       "  }\n",
       "  th {\n",
       "    text-align: left;\n",
       "  }\n",
       "</style><div class='table-result-container'><table class='table-result'><thead style='background-color: white'><tr><th>race_id</th><th>count(1)</th></tr></thead><tbody><tr><td>1053</td><td>20</td></tr><tr><td>1052</td><td>20</td></tr><tr><td>1047</td><td>20</td></tr><tr><td>1046</td><td>20</td></tr><tr><td>1045</td><td>20</td></tr></tbody></table></div>"
      ]
     },
     "metadata": {
      "application/vnd.databricks.v1+output": {
       "addedWidgets": {},
       "aggData": [],
       "aggError": "",
       "aggOverflow": false,
       "aggSchema": [],
       "aggSeriesLimitReached": false,
       "aggType": "",
       "arguments": {},
       "columnCustomDisplayInfos": {},
       "data": [
        [
         1053,
         20
        ],
        [
         1052,
         20
        ],
        [
         1047,
         20
        ],
        [
         1046,
         20
        ],
        [
         1045,
         20
        ]
       ],
       "datasetInfos": [],
       "dbfsResultPath": null,
       "isJsonSchema": true,
       "metadata": {
        "dataframeName": "_sqldf",
        "executionCount": 15
       },
       "overflow": false,
       "plotOptions": {
        "customPlotOptions": {},
        "displayType": "table",
        "pivotAggregation": null,
        "pivotColumns": null,
        "xColumns": null,
        "yColumns": null
       },
       "removedWidgets": [],
       "schema": [
        {
         "metadata": "{}",
         "name": "race_id",
         "type": "\"integer\""
        },
        {
         "metadata": "{\"__autoGeneratedAlias\":\"true\"}",
         "name": "count(1)",
         "type": "\"long\""
        }
       ],
       "type": "table"
      }
     },
     "output_type": "display_data"
    }
   ],
   "source": [
    "# %sql\n",
    "# SELECT race_id, COUNT(1)\n",
    "# FROM f1_processed.results\n",
    "# GROUP BY race_id\n",
    "# ORDER BY race_id DESC\n",
    "# LIMIT 5;"
   ]
  },
  {
   "cell_type": "code",
   "execution_count": 0,
   "metadata": {
    "application/vnd.databricks.v1+cell": {
     "cellMetadata": {
      "byteLimit": 2048000,
      "implicitDf": true,
      "rowLimit": 10000
     },
     "inputWidgets": {},
     "nuid": "76475e23-3974-415f-b7bf-34a03155c138",
     "showTitle": false,
     "title": ""
    }
   },
   "outputs": [
    {
     "output_type": "display_data",
     "data": {
      "text/html": [
       "<style scoped>\n",
       "  .table-result-container {\n",
       "    max-height: 300px;\n",
       "    overflow: auto;\n",
       "  }\n",
       "  table, th, td {\n",
       "    border: 1px solid black;\n",
       "    border-collapse: collapse;\n",
       "  }\n",
       "  th, td {\n",
       "    padding: 5px;\n",
       "  }\n",
       "  th {\n",
       "    text-align: left;\n",
       "  }\n",
       "</style><div class='table-result-container'><table class='table-result'><thead style='background-color: white'><tr><th>result_id</th><th>race_id</th><th>driver_id</th><th>constructor_id</th><th>number</th><th>grid</th><th>position</th><th>position_text</th><th>position_order</th><th>points</th><th>laps</th><th>time</th><th>milliseconds</th><th>fastest_lap</th><th>rank</th><th>fastest_lap_time</th><th>fastest_lap_speed</th><th>ingestion_date</th><th>data_source</th><th>file_date</th></tr></thead><tbody><tr><td>11944</td><td>496</td><td>105</td><td>25</td><td>4</td><td>22</td><td>11</td><td>11</td><td>11</td><td>0.0</td><td>59</td><td>\\N</td><td>null</td><td>null</td><td>null</td><td>\\N</td><td>\\N</td><td>2023-12-22T10:51:17.188Z</td><td>Ergast</td><td>2021-03-21</td></tr><tr><td>11946</td><td>496</td><td>110</td><td>1</td><td>8</td><td>13</td><td>null</td><td>R</td><td>13</td><td>0.0</td><td>51</td><td>\\N</td><td>null</td><td>null</td><td>null</td><td>\\N</td><td>\\N</td><td>2023-12-22T10:51:17.188Z</td><td>Ergast</td><td>2021-03-21</td></tr><tr><td>11947</td><td>496</td><td>117</td><td>4</td><td>15</td><td>4</td><td>null</td><td>R</td><td>14</td><td>0.0</td><td>48</td><td>\\N</td><td>null</td><td>null</td><td>null</td><td>\\N</td><td>\\N</td><td>2023-12-22T10:51:17.188Z</td><td>Ergast</td><td>2021-03-21</td></tr><tr><td>11962</td><td>496</td><td>118</td><td>53</td><td>36</td><td>0</td><td>null</td><td>F</td><td>29</td><td>0.0</td><td>0</td><td>\\N</td><td>null</td><td>null</td><td>null</td><td>\\N</td><td>\\N</td><td>2023-12-22T10:51:17.188Z</td><td>Ergast</td><td>2021-03-21</td></tr><tr><td>11956</td><td>496</td><td>119</td><td>21</td><td>29</td><td>18</td><td>null</td><td>R</td><td>23</td><td>0.0</td><td>6</td><td>\\N</td><td>null</td><td>null</td><td>null</td><td>\\N</td><td>\\N</td><td>2023-12-22T10:51:17.188Z</td><td>Ergast</td><td>2021-03-21</td></tr></tbody></table></div>"
      ]
     },
     "metadata": {
      "application/vnd.databricks.v1+output": {
       "addedWidgets": {},
       "aggData": [],
       "aggError": "",
       "aggOverflow": false,
       "aggSchema": [],
       "aggSeriesLimitReached": false,
       "aggType": "",
       "arguments": {},
       "columnCustomDisplayInfos": {},
       "data": [
        [
         11944,
         496,
         105,
         25,
         4,
         22,
         11,
         "11",
         11,
         0.0,
         59,
         "\\N",
         null,
         null,
         null,
         "\\N",
         "\\N",
         "2023-12-22T10:51:17.188Z",
         "Ergast",
         "2021-03-21"
        ],
        [
         11946,
         496,
         110,
         1,
         8,
         13,
         null,
         "R",
         13,
         0.0,
         51,
         "\\N",
         null,
         null,
         null,
         "\\N",
         "\\N",
         "2023-12-22T10:51:17.188Z",
         "Ergast",
         "2021-03-21"
        ],
        [
         11947,
         496,
         117,
         4,
         15,
         4,
         null,
         "R",
         14,
         0.0,
         48,
         "\\N",
         null,
         null,
         null,
         "\\N",
         "\\N",
         "2023-12-22T10:51:17.188Z",
         "Ergast",
         "2021-03-21"
        ],
        [
         11962,
         496,
         118,
         53,
         36,
         0,
         null,
         "F",
         29,
         0.0,
         0,
         "\\N",
         null,
         null,
         null,
         "\\N",
         "\\N",
         "2023-12-22T10:51:17.188Z",
         "Ergast",
         "2021-03-21"
        ],
        [
         11956,
         496,
         119,
         21,
         29,
         18,
         null,
         "R",
         23,
         0.0,
         6,
         "\\N",
         null,
         null,
         null,
         "\\N",
         "\\N",
         "2023-12-22T10:51:17.188Z",
         "Ergast",
         "2021-03-21"
        ]
       ],
       "datasetInfos": [],
       "dbfsResultPath": null,
       "isJsonSchema": true,
       "metadata": {
        "dataframeName": "_sqldf",
        "executionCount": 14
       },
       "overflow": false,
       "plotOptions": {
        "customPlotOptions": {},
        "displayType": "table",
        "pivotAggregation": null,
        "pivotColumns": null,
        "xColumns": null,
        "yColumns": null
       },
       "removedWidgets": [],
       "schema": [
        {
         "metadata": "{}",
         "name": "result_id",
         "type": "\"integer\""
        },
        {
         "metadata": "{}",
         "name": "race_id",
         "type": "\"integer\""
        },
        {
         "metadata": "{}",
         "name": "driver_id",
         "type": "\"integer\""
        },
        {
         "metadata": "{}",
         "name": "constructor_id",
         "type": "\"integer\""
        },
        {
         "metadata": "{}",
         "name": "number",
         "type": "\"integer\""
        },
        {
         "metadata": "{}",
         "name": "grid",
         "type": "\"integer\""
        },
        {
         "metadata": "{}",
         "name": "position",
         "type": "\"integer\""
        },
        {
         "metadata": "{}",
         "name": "position_text",
         "type": "\"string\""
        },
        {
         "metadata": "{}",
         "name": "position_order",
         "type": "\"integer\""
        },
        {
         "metadata": "{}",
         "name": "points",
         "type": "\"float\""
        },
        {
         "metadata": "{}",
         "name": "laps",
         "type": "\"integer\""
        },
        {
         "metadata": "{}",
         "name": "time",
         "type": "\"string\""
        },
        {
         "metadata": "{}",
         "name": "milliseconds",
         "type": "\"integer\""
        },
        {
         "metadata": "{}",
         "name": "fastest_lap",
         "type": "\"integer\""
        },
        {
         "metadata": "{}",
         "name": "rank",
         "type": "\"integer\""
        },
        {
         "metadata": "{}",
         "name": "fastest_lap_time",
         "type": "\"string\""
        },
        {
         "metadata": "{}",
         "name": "fastest_lap_speed",
         "type": "\"string\""
        },
        {
         "metadata": "{}",
         "name": "ingestion_date",
         "type": "\"timestamp\""
        },
        {
         "metadata": "{}",
         "name": "data_source",
         "type": "\"string\""
        },
        {
         "metadata": "{}",
         "name": "file_date",
         "type": "\"string\""
        }
       ],
       "type": "table"
      }
     },
     "output_type": "display_data"
    }
   ],
   "source": [
    "%sql\n",
    "SELECT * FROM f1_processed.results\n",
    "LIMIT 5;"
   ]
  },
  {
   "cell_type": "code",
   "execution_count": 0,
   "metadata": {
    "application/vnd.databricks.v1+cell": {
     "cellMetadata": {
      "byteLimit": 2048000,
      "rowLimit": 10000
     },
     "inputWidgets": {},
     "nuid": "dbbe1167-057b-41dc-bea2-4011cd63fafc",
     "showTitle": false,
     "title": ""
    }
   },
   "outputs": [],
   "source": [
    "dbutils.notebook.exit(\"Success\")"
   ]
  }
 ],
 "metadata": {
  "application/vnd.databricks.v1+notebook": {
   "dashboards": [],
   "language": "python",
   "notebookMetadata": {
    "mostRecentlyExecutedCommandWithImplicitDF": {
     "commandId": 3550917229048829,
     "dataframes": [
      "_sqldf"
     ]
    },
    "pythonIndentUnit": 4
   },
   "notebookName": "5.ingest_results_file",
   "widgets": {
    "p_data_source": {
     "currentValue": "Ergast API",
     "nuid": "b5b31bfd-1e17-4792-9e7c-b7be63411e54",
     "widgetInfo": {
      "widgetType": "text",
      "defaultValue": "",
      "label": null,
      "name": "p_data_source",
      "options": {
       "widgetType": "text",
       "autoCreated": null,
       "validationRegex": null
      }
     }
    },
    "p_file_date": {
     "currentValue": "2021-04-18",
     "nuid": "0f46daed-a542-47db-b593-e6b2085adf9c",
     "widgetInfo": {
      "widgetType": "text",
      "defaultValue": "2021-03-21",
      "label": null,
      "name": "p_file_date",
      "options": {
       "widgetType": "text",
       "autoCreated": null,
       "validationRegex": null
      }
     }
    }
   }
  }
 },
 "nbformat": 4,
 "nbformat_minor": 0
}
