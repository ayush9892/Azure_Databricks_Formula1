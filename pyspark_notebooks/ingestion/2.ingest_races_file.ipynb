{
 "cells": [
  {
   "cell_type": "markdown",
   "metadata": {
    "application/vnd.databricks.v1+cell": {
     "cellMetadata": {
      "byteLimit": 2048000,
      "rowLimit": 10000
     },
     "inputWidgets": {},
     "nuid": "1b65c62f-b8d6-4970-ab5f-cb88ec8c991b",
     "showTitle": false,
     "title": ""
    }
   },
   "source": [
    "### Ingest races.csv file"
   ]
  },
  {
   "cell_type": "code",
   "execution_count": 0,
   "metadata": {
    "application/vnd.databricks.v1+cell": {
     "cellMetadata": {
      "byteLimit": 2048000,
      "rowLimit": 10000
     },
     "inputWidgets": {},
     "nuid": "b136e407-d87c-4710-8e36-d83f6a9505b2",
     "showTitle": false,
     "title": ""
    }
   },
   "outputs": [],
   "source": [
    "%run \"../includes/configuration\""
   ]
  },
  {
   "cell_type": "code",
   "execution_count": 0,
   "metadata": {
    "application/vnd.databricks.v1+cell": {
     "cellMetadata": {
      "byteLimit": 2048000,
      "rowLimit": 10000
     },
     "inputWidgets": {},
     "nuid": "6407ee22-a026-49c3-9407-37864221ccf1",
     "showTitle": false,
     "title": ""
    }
   },
   "outputs": [],
   "source": [
    "%run \"../includes/common_functions\""
   ]
  },
  {
   "cell_type": "code",
   "execution_count": 0,
   "metadata": {
    "application/vnd.databricks.v1+cell": {
     "cellMetadata": {
      "byteLimit": 2048000,
      "rowLimit": 10000
     },
     "inputWidgets": {},
     "nuid": "8f280e4b-64f9-484e-8779-70e9bac9fd7d",
     "showTitle": false,
     "title": ""
    }
   },
   "outputs": [],
   "source": [
    "dbutils.widgets.text(\"p_data_source\", \"\")\n",
    "v_data_source = dbutils.widgets.get(\"p_data_source\")"
   ]
  },
  {
   "cell_type": "code",
   "execution_count": 0,
   "metadata": {
    "application/vnd.databricks.v1+cell": {
     "cellMetadata": {
      "byteLimit": 2048000,
      "rowLimit": 10000
     },
     "inputWidgets": {},
     "nuid": "e2f73211-bf0b-49ab-b5bc-4e089b745bd5",
     "showTitle": false,
     "title": ""
    }
   },
   "outputs": [],
   "source": [
    "dbutils.widgets.text(\"p_file_date\", \"2021-03-21\")\n",
    "v_file_date = dbutils.widgets.get(\"p_file_date\")"
   ]
  },
  {
   "cell_type": "markdown",
   "metadata": {
    "application/vnd.databricks.v1+cell": {
     "cellMetadata": {
      "byteLimit": 2048000,
      "rowLimit": 10000
     },
     "inputWidgets": {},
     "nuid": "b51472d2-43d8-4ece-8345-227de6957057",
     "showTitle": false,
     "title": ""
    }
   },
   "source": [
    "##### Step 1 - Read the csv using spark Dataframe Reader"
   ]
  },
  {
   "cell_type": "code",
   "execution_count": 0,
   "metadata": {
    "application/vnd.databricks.v1+cell": {
     "cellMetadata": {
      "byteLimit": 2048000,
      "rowLimit": 10000
     },
     "inputWidgets": {},
     "nuid": "3e734d5c-b82b-4fb0-9d1a-474974661b74",
     "showTitle": false,
     "title": ""
    }
   },
   "outputs": [],
   "source": [
    "from pyspark.sql.types import StructType, StructField, IntegerType, StringType, DateType"
   ]
  },
  {
   "cell_type": "code",
   "execution_count": 0,
   "metadata": {
    "application/vnd.databricks.v1+cell": {
     "cellMetadata": {
      "byteLimit": 2048000,
      "rowLimit": 10000
     },
     "inputWidgets": {},
     "nuid": "69dd6f6c-45ec-45d6-a7f8-6f96dfcb2a7a",
     "showTitle": false,
     "title": ""
    }
   },
   "outputs": [],
   "source": [
    "races_schema = StructType(fields = [StructField(\"raceId\", IntegerType(), False),\n",
    "                                   StructField(\"year\", IntegerType(), True),\n",
    "                                   StructField(\"round\", IntegerType(), True),\n",
    "                                   StructField(\"circuitId\", IntegerType(), True),\n",
    "                                   StructField(\"name\", StringType(), True),\n",
    "                                   StructField(\"date\", DateType(), True),\n",
    "                                   StructField(\"time\", StringType(), False),\n",
    "                                   StructField(\"url\", StringType(), False),\n",
    "                                ])"
   ]
  },
  {
   "cell_type": "code",
   "execution_count": 0,
   "metadata": {
    "application/vnd.databricks.v1+cell": {
     "cellMetadata": {
      "byteLimit": 2048000,
      "rowLimit": 10000
     },
     "inputWidgets": {},
     "nuid": "e20207a2-e69d-441c-a29f-6da135ac27a8",
     "showTitle": false,
     "title": ""
    }
   },
   "outputs": [],
   "source": [
    "races_df = spark.read \\\n",
    "    .option(\"header\", True) \\\n",
    "    .schema(races_schema) \\\n",
    "    .csv(f\"{raw_folder_path}/{v_file_date}/races.csv\")"
   ]
  },
  {
   "cell_type": "code",
   "execution_count": 0,
   "metadata": {
    "application/vnd.databricks.v1+cell": {
     "cellMetadata": {
      "byteLimit": 2048000,
      "rowLimit": 10000
     },
     "inputWidgets": {},
     "nuid": "4f6edd22-eda0-4d03-afd8-d13864a7e44b",
     "showTitle": false,
     "title": ""
    }
   },
   "outputs": [
    {
     "output_type": "stream",
     "name": "stdout",
     "output_type": "stream",
     "text": [
      "root\n |-- raceId: integer (nullable = true)\n |-- year: integer (nullable = true)\n |-- round: integer (nullable = true)\n |-- circuitId: integer (nullable = true)\n |-- name: string (nullable = true)\n |-- date: date (nullable = true)\n |-- time: string (nullable = true)\n |-- url: string (nullable = true)\n\n"
     ]
    }
   ],
   "source": [
    "# races_df.printSchema()"
   ]
  },
  {
   "cell_type": "code",
   "execution_count": 0,
   "metadata": {
    "application/vnd.databricks.v1+cell": {
     "cellMetadata": {
      "byteLimit": 2048000,
      "rowLimit": 10000
     },
     "inputWidgets": {},
     "nuid": "74783d14-6b9f-4389-84d0-78fc16da798e",
     "showTitle": false,
     "title": ""
    }
   },
   "outputs": [
    {
     "output_type": "display_data",
     "data": {
      "text/html": [
       "<style scoped>\n",
       "  .table-result-container {\n",
       "    max-height: 300px;\n",
       "    overflow: auto;\n",
       "  }\n",
       "  table, th, td {\n",
       "    border: 1px solid black;\n",
       "    border-collapse: collapse;\n",
       "  }\n",
       "  th, td {\n",
       "    padding: 5px;\n",
       "  }\n",
       "  th {\n",
       "    text-align: left;\n",
       "  }\n",
       "</style><div class='table-result-container'><table class='table-result'><thead style='background-color: white'><tr><th>raceId</th><th>year</th><th>round</th><th>circuitId</th><th>name</th><th>date</th><th>time</th><th>url</th></tr></thead><tbody><tr><td>1</td><td>2009</td><td>1</td><td>1</td><td>Australian Grand Prix</td><td>2009-03-29</td><td>06:00:00</td><td>http://en.wikipedia.org/wiki/2009_Australian_Grand_Prix</td></tr><tr><td>2</td><td>2009</td><td>2</td><td>2</td><td>Malaysian Grand Prix</td><td>2009-04-05</td><td>09:00:00</td><td>http://en.wikipedia.org/wiki/2009_Malaysian_Grand_Prix</td></tr><tr><td>3</td><td>2009</td><td>3</td><td>17</td><td>Chinese Grand Prix</td><td>2009-04-19</td><td>07:00:00</td><td>http://en.wikipedia.org/wiki/2009_Chinese_Grand_Prix</td></tr><tr><td>4</td><td>2009</td><td>4</td><td>3</td><td>Bahrain Grand Prix</td><td>2009-04-26</td><td>12:00:00</td><td>http://en.wikipedia.org/wiki/2009_Bahrain_Grand_Prix</td></tr><tr><td>5</td><td>2009</td><td>5</td><td>4</td><td>Spanish Grand Prix</td><td>2009-05-10</td><td>12:00:00</td><td>http://en.wikipedia.org/wiki/2009_Spanish_Grand_Prix</td></tr></tbody></table></div>"
      ]
     },
     "metadata": {
      "application/vnd.databricks.v1+output": {
       "addedWidgets": {},
       "aggData": [],
       "aggError": "",
       "aggOverflow": false,
       "aggSchema": [],
       "aggSeriesLimitReached": false,
       "aggType": "",
       "arguments": {},
       "columnCustomDisplayInfos": {},
       "data": [
        [
         1,
         2009,
         1,
         1,
         "Australian Grand Prix",
         "2009-03-29",
         "06:00:00",
         "http://en.wikipedia.org/wiki/2009_Australian_Grand_Prix"
        ],
        [
         2,
         2009,
         2,
         2,
         "Malaysian Grand Prix",
         "2009-04-05",
         "09:00:00",
         "http://en.wikipedia.org/wiki/2009_Malaysian_Grand_Prix"
        ],
        [
         3,
         2009,
         3,
         17,
         "Chinese Grand Prix",
         "2009-04-19",
         "07:00:00",
         "http://en.wikipedia.org/wiki/2009_Chinese_Grand_Prix"
        ],
        [
         4,
         2009,
         4,
         3,
         "Bahrain Grand Prix",
         "2009-04-26",
         "12:00:00",
         "http://en.wikipedia.org/wiki/2009_Bahrain_Grand_Prix"
        ],
        [
         5,
         2009,
         5,
         4,
         "Spanish Grand Prix",
         "2009-05-10",
         "12:00:00",
         "http://en.wikipedia.org/wiki/2009_Spanish_Grand_Prix"
        ]
       ],
       "datasetInfos": [],
       "dbfsResultPath": null,
       "isJsonSchema": true,
       "metadata": {},
       "overflow": false,
       "plotOptions": {
        "customPlotOptions": {},
        "displayType": "table",
        "pivotAggregation": null,
        "pivotColumns": null,
        "xColumns": null,
        "yColumns": null
       },
       "removedWidgets": [],
       "schema": [
        {
         "metadata": "{}",
         "name": "raceId",
         "type": "\"integer\""
        },
        {
         "metadata": "{}",
         "name": "year",
         "type": "\"integer\""
        },
        {
         "metadata": "{}",
         "name": "round",
         "type": "\"integer\""
        },
        {
         "metadata": "{}",
         "name": "circuitId",
         "type": "\"integer\""
        },
        {
         "metadata": "{}",
         "name": "name",
         "type": "\"string\""
        },
        {
         "metadata": "{}",
         "name": "date",
         "type": "\"date\""
        },
        {
         "metadata": "{}",
         "name": "time",
         "type": "\"string\""
        },
        {
         "metadata": "{}",
         "name": "url",
         "type": "\"string\""
        }
       ],
       "type": "table"
      }
     },
     "output_type": "display_data"
    }
   ],
   "source": [
    "# display(races_df.limit(5))"
   ]
  },
  {
   "cell_type": "markdown",
   "metadata": {
    "application/vnd.databricks.v1+cell": {
     "cellMetadata": {
      "byteLimit": 2048000,
      "rowLimit": 10000
     },
     "inputWidgets": {},
     "nuid": "044a24b9-e5d8-4e66-b240-8f29367c8080",
     "showTitle": false,
     "title": ""
    }
   },
   "source": [
    "##### Step 2 - Add ingestion_date and race_timestamp to the dataframe"
   ]
  },
  {
   "cell_type": "code",
   "execution_count": 0,
   "metadata": {
    "application/vnd.databricks.v1+cell": {
     "cellMetadata": {
      "byteLimit": 2048000,
      "rowLimit": 10000
     },
     "inputWidgets": {},
     "nuid": "374df17e-6c94-4857-9c0e-98b04ac25221",
     "showTitle": false,
     "title": ""
    }
   },
   "outputs": [],
   "source": [
    "from pyspark.sql.functions import to_timestamp, concat, col, lit"
   ]
  },
  {
   "cell_type": "code",
   "execution_count": 0,
   "metadata": {
    "application/vnd.databricks.v1+cell": {
     "cellMetadata": {
      "byteLimit": 2048000,
      "rowLimit": 10000
     },
     "inputWidgets": {},
     "nuid": "6abb7f92-fe06-4b45-8e69-977820939605",
     "showTitle": false,
     "title": ""
    }
   },
   "outputs": [],
   "source": [
    "races_with_timestamp_df = add_ingestion_date(races_df) \\\n",
    "    .withColumn(\"race_timestamp\", to_timestamp(concat(col('date'), lit(' '), col('time')), 'yyyy-MM-dd HH:mm:ss')) \\\n",
    "    .withColumn(\"data_source\", lit(v_data_source)) \\\n",
    "    .withColumn(\"file_date\", lit(v_file_date))"
   ]
  },
  {
   "cell_type": "markdown",
   "metadata": {
    "application/vnd.databricks.v1+cell": {
     "cellMetadata": {
      "byteLimit": 2048000,
      "rowLimit": 10000
     },
     "inputWidgets": {},
     "nuid": "fd89369a-393c-482d-b1cb-022e29d1913e",
     "showTitle": false,
     "title": ""
    }
   },
   "source": [
    "##### Step 3 - Select only the required columns and rename columns"
   ]
  },
  {
   "cell_type": "code",
   "execution_count": 0,
   "metadata": {
    "application/vnd.databricks.v1+cell": {
     "cellMetadata": {
      "byteLimit": 2048000,
      "rowLimit": 10000
     },
     "inputWidgets": {},
     "nuid": "75e7a1a3-2a30-46dc-8031-e0dcf94753c8",
     "showTitle": false,
     "title": ""
    }
   },
   "outputs": [],
   "source": [
    "races_selected_df = races_with_timestamp_df.select(col('raceId').alias('race_id'), col('year').alias('race_year'), col('round'), \n",
    "                                                   col('circuitId').alias('circuit_id'), col('name'), col('race_timestamp'), \n",
    "                                                   col('ingestion_date'), col('data_source'), col('file_date'))"
   ]
  },
  {
   "cell_type": "markdown",
   "metadata": {
    "application/vnd.databricks.v1+cell": {
     "cellMetadata": {
      "byteLimit": 2048000,
      "rowLimit": 10000
     },
     "inputWidgets": {},
     "nuid": "0723c3bb-7c45-469f-9441-23606660c540",
     "showTitle": false,
     "title": ""
    }
   },
   "source": [
    "##### Step 4 - Write output data to processed container"
   ]
  },
  {
   "cell_type": "code",
   "execution_count": 0,
   "metadata": {
    "application/vnd.databricks.v1+cell": {
     "cellMetadata": {
      "byteLimit": 2048000,
      "rowLimit": 10000
     },
     "inputWidgets": {},
     "nuid": "66567830-169c-4ad5-b2a5-370d8934307c",
     "showTitle": false,
     "title": ""
    }
   },
   "outputs": [],
   "source": [
    "races_selected_df.write.mode(\"overwrite\").format(\"delta\").saveAsTable(\"f1_processed.races\")"
   ]
  },
  {
   "cell_type": "code",
   "execution_count": 0,
   "metadata": {
    "application/vnd.databricks.v1+cell": {
     "cellMetadata": {
      "byteLimit": 2048000,
      "rowLimit": 10000
     },
     "inputWidgets": {},
     "nuid": "188b81a8-2468-46ff-82bc-976aecdc9d46",
     "showTitle": false,
     "title": ""
    }
   },
   "outputs": [],
   "source": [
    "# races_selected_df.write.mode('overwrite').partitionBy('race_year').parquet(f'{processed_folder_path}/races')"
   ]
  },
  {
   "cell_type": "code",
   "execution_count": 0,
   "metadata": {
    "application/vnd.databricks.v1+cell": {
     "cellMetadata": {
      "byteLimit": 2048000,
      "implicitDf": true,
      "rowLimit": 10000
     },
     "inputWidgets": {},
     "nuid": "e717f12b-1e12-4234-ab83-7b256d785ee3",
     "showTitle": false,
     "title": ""
    }
   },
   "outputs": [
    {
     "output_type": "display_data",
     "data": {
      "text/html": [
       "<style scoped>\n",
       "  .table-result-container {\n",
       "    max-height: 300px;\n",
       "    overflow: auto;\n",
       "  }\n",
       "  table, th, td {\n",
       "    border: 1px solid black;\n",
       "    border-collapse: collapse;\n",
       "  }\n",
       "  th, td {\n",
       "    padding: 5px;\n",
       "  }\n",
       "  th {\n",
       "    text-align: left;\n",
       "  }\n",
       "</style><div class='table-result-container'><table class='table-result'><thead style='background-color: white'><tr><th>race_id</th><th>race_year</th><th>round</th><th>circuit_id</th><th>name</th><th>race_timestamp</th><th>ingestion_date</th><th>data_source</th><th>file_date</th></tr></thead><tbody><tr><td>1</td><td>2009</td><td>1</td><td>1</td><td>Australian Grand Prix</td><td>2009-03-29T06:00:00Z</td><td>2023-12-22T11:00:50.106Z</td><td>Ergast</td><td>2021-04-18</td></tr><tr><td>2</td><td>2009</td><td>2</td><td>2</td><td>Malaysian Grand Prix</td><td>2009-04-05T09:00:00Z</td><td>2023-12-22T11:00:50.106Z</td><td>Ergast</td><td>2021-04-18</td></tr><tr><td>3</td><td>2009</td><td>3</td><td>17</td><td>Chinese Grand Prix</td><td>2009-04-19T07:00:00Z</td><td>2023-12-22T11:00:50.106Z</td><td>Ergast</td><td>2021-04-18</td></tr><tr><td>4</td><td>2009</td><td>4</td><td>3</td><td>Bahrain Grand Prix</td><td>2009-04-26T12:00:00Z</td><td>2023-12-22T11:00:50.106Z</td><td>Ergast</td><td>2021-04-18</td></tr><tr><td>5</td><td>2009</td><td>5</td><td>4</td><td>Spanish Grand Prix</td><td>2009-05-10T12:00:00Z</td><td>2023-12-22T11:00:50.106Z</td><td>Ergast</td><td>2021-04-18</td></tr></tbody></table></div>"
      ]
     },
     "metadata": {
      "application/vnd.databricks.v1+output": {
       "addedWidgets": {},
       "aggData": [],
       "aggError": "",
       "aggOverflow": false,
       "aggSchema": [],
       "aggSeriesLimitReached": false,
       "aggType": "",
       "arguments": {},
       "columnCustomDisplayInfos": {},
       "data": [
        [
         1,
         2009,
         1,
         1,
         "Australian Grand Prix",
         "2009-03-29T06:00:00Z",
         "2023-12-22T11:00:50.106Z",
         "Ergast",
         "2021-04-18"
        ],
        [
         2,
         2009,
         2,
         2,
         "Malaysian Grand Prix",
         "2009-04-05T09:00:00Z",
         "2023-12-22T11:00:50.106Z",
         "Ergast",
         "2021-04-18"
        ],
        [
         3,
         2009,
         3,
         17,
         "Chinese Grand Prix",
         "2009-04-19T07:00:00Z",
         "2023-12-22T11:00:50.106Z",
         "Ergast",
         "2021-04-18"
        ],
        [
         4,
         2009,
         4,
         3,
         "Bahrain Grand Prix",
         "2009-04-26T12:00:00Z",
         "2023-12-22T11:00:50.106Z",
         "Ergast",
         "2021-04-18"
        ],
        [
         5,
         2009,
         5,
         4,
         "Spanish Grand Prix",
         "2009-05-10T12:00:00Z",
         "2023-12-22T11:00:50.106Z",
         "Ergast",
         "2021-04-18"
        ]
       ],
       "datasetInfos": [],
       "dbfsResultPath": null,
       "isJsonSchema": true,
       "metadata": {
        "dataframeName": "_sqldf",
        "executionCount": 10
       },
       "overflow": false,
       "plotOptions": {
        "customPlotOptions": {},
        "displayType": "table",
        "pivotAggregation": null,
        "pivotColumns": null,
        "xColumns": null,
        "yColumns": null
       },
       "removedWidgets": [],
       "schema": [
        {
         "metadata": "{}",
         "name": "race_id",
         "type": "\"integer\""
        },
        {
         "metadata": "{}",
         "name": "race_year",
         "type": "\"integer\""
        },
        {
         "metadata": "{}",
         "name": "round",
         "type": "\"integer\""
        },
        {
         "metadata": "{}",
         "name": "circuit_id",
         "type": "\"integer\""
        },
        {
         "metadata": "{}",
         "name": "name",
         "type": "\"string\""
        },
        {
         "metadata": "{}",
         "name": "race_timestamp",
         "type": "\"timestamp\""
        },
        {
         "metadata": "{}",
         "name": "ingestion_date",
         "type": "\"timestamp\""
        },
        {
         "metadata": "{}",
         "name": "data_source",
         "type": "\"string\""
        },
        {
         "metadata": "{}",
         "name": "file_date",
         "type": "\"string\""
        }
       ],
       "type": "table"
      }
     },
     "output_type": "display_data"
    }
   ],
   "source": [
    "%sql\n",
    "SELECT * FROM f1_processed.races\n",
    "LIMIT 5;"
   ]
  },
  {
   "cell_type": "code",
   "execution_count": 0,
   "metadata": {
    "application/vnd.databricks.v1+cell": {
     "cellMetadata": {},
     "inputWidgets": {},
     "nuid": "6e719f65-ab6e-407e-a3f8-a157ccdf94db",
     "showTitle": false,
     "title": ""
    }
   },
   "outputs": [],
   "source": [
    "dbutils.notebook.exit(\"Success\")"
   ]
  }
 ],
 "metadata": {
  "application/vnd.databricks.v1+notebook": {
   "dashboards": [],
   "language": "python",
   "notebookMetadata": {
    "mostRecentlyExecutedCommandWithImplicitDF": {
     "commandId": 3550917229048911,
     "dataframes": [
      "_sqldf"
     ]
    },
    "pythonIndentUnit": 4,
    "widgetLayout": [
     {
      "breakBefore": false,
      "name": "p_data_source",
      "width": 206
     },
     {
      "breakBefore": false,
      "name": "p_file_date",
      "width": 206
     }
    ]
   },
   "notebookName": "2.ingest_races_file",
   "widgets": {
    "p_data_source": {
     "currentValue": "Ergast API",
     "nuid": "51f183ca-1fa7-4dca-a7f2-d52921730125",
     "widgetInfo": {
      "widgetType": "text",
      "defaultValue": "",
      "label": null,
      "name": "p_data_source",
      "options": {
       "widgetType": "text",
       "autoCreated": null,
       "validationRegex": null
      }
     }
    },
    "p_file_date": {
     "currentValue": "2021-03-21",
     "nuid": "eb69f1df-81a2-443e-867d-4fb0047c3915",
     "widgetInfo": {
      "widgetType": "text",
      "defaultValue": "2021-03-21",
      "label": null,
      "name": "p_file_date",
      "options": {
       "widgetType": "text",
       "autoCreated": null,
       "validationRegex": null
      }
     }
    }
   }
  }
 },
 "nbformat": 4,
 "nbformat_minor": 0
}
