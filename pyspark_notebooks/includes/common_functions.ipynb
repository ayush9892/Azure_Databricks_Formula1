{
 "cells": [
  {
   "cell_type": "code",
   "execution_count": 0,
   "metadata": {
    "application/vnd.databricks.v1+cell": {
     "cellMetadata": {
      "byteLimit": 2048000,
      "rowLimit": 10000
     },
     "inputWidgets": {},
     "nuid": "06b88750-347b-4240-b826-cca46fed56f4",
     "showTitle": false,
     "title": ""
    }
   },
   "outputs": [],
   "source": [
    "from pyspark.sql.functions import current_timestamp\n",
    "def add_ingestion_date(input_df):\n",
    "    return input_df.withColumn(\"ingestion_date\", current_timestamp())"
   ]
  },
  {
   "cell_type": "code",
   "execution_count": 0,
   "metadata": {
    "application/vnd.databricks.v1+cell": {
     "cellMetadata": {
      "byteLimit": 2048000,
      "rowLimit": 10000
     },
     "inputWidgets": {},
     "nuid": "71516a55-98ab-4bd0-a966-6c6ce000b667",
     "showTitle": false,
     "title": ""
    }
   },
   "outputs": [],
   "source": [
    "def merge_delta_deta(input_df, db_name, table_name, folder_path, merge_condition, partition_column):\n",
    "    spark.conf.set(\"spark.databricks.optimizer.dynamicPartitionPruning\", \"true\")\n",
    "    # by setting this, it will use the column to find the partition folder. If you not set this, the filtering condition will behave as simple hardcoded values.\n",
    "    # Example in merge_condition->  \"tgt.result_id = src.result_id AND tgt.race_id = src.race_id\"  the race_id column is used to find the partition folder.\n",
    "\n",
    "    from delta.tables import DeltaTable\n",
    "\n",
    "    if(spark._jsparkSession.catalog().tableExists(f\"{db_name}.{table_name}\")):\n",
    "        deltaTable = DeltaTable.forPath(spark, f\"{folder_path}/{table_name}\")\n",
    "        deltaTable.alias(\"tgt\").merge(\n",
    "            input_df.alias(\"src\"),\n",
    "            merge_condition\n",
    "        ) \\\n",
    "        .whenMatchedUpdateAll() \\\n",
    "        .whenNotMatchedInsertAll() \\\n",
    "        .execute()\n",
    "    else:\n",
    "        input_df.write.mode(\"overwrite\").format(\"delta\").partitionBy(f\"{partition_column}\").saveAsTable(f\"{db_name}.{table_name}\")"
   ]
  },
  {
   "cell_type": "code",
   "execution_count": 0,
   "metadata": {
    "application/vnd.databricks.v1+cell": {
     "cellMetadata": {},
     "inputWidgets": {},
     "nuid": "081bc232-5422-4e7e-a699-7c7720963351",
     "showTitle": false,
     "title": ""
    }
   },
   "outputs": [],
   "source": []
  }
 ],
 "metadata": {
  "application/vnd.databricks.v1+notebook": {
   "dashboards": [],
   "language": "python",
   "notebookMetadata": {
    "mostRecentlyExecutedCommandWithImplicitDF": {
     "commandId": 1547961755301968,
     "dataframes": [
      "_sqldf"
     ]
    },
    "pythonIndentUnit": 4
   },
   "notebookName": "common_functions",
   "widgets": {}
  }
 },
 "nbformat": 4,
 "nbformat_minor": 0
}
