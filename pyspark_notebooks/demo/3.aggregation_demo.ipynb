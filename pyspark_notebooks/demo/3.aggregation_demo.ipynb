{
 "cells": [
  {
   "cell_type": "code",
   "execution_count": 0,
   "metadata": {
    "application/vnd.databricks.v1+cell": {
     "cellMetadata": {
      "byteLimit": 2048000,
      "rowLimit": 10000
     },
     "inputWidgets": {},
     "nuid": "6947d0fc-28af-465f-863f-499cae55c7aa",
     "showTitle": false,
     "title": ""
    }
   },
   "outputs": [],
   "source": [
    "%run \"../includes/configuration\""
   ]
  },
  {
   "cell_type": "code",
   "execution_count": 0,
   "metadata": {
    "application/vnd.databricks.v1+cell": {
     "cellMetadata": {
      "byteLimit": 2048000,
      "rowLimit": 10000
     },
     "inputWidgets": {},
     "nuid": "64b509e9-ba81-456b-a318-99ea77fac74b",
     "showTitle": false,
     "title": ""
    }
   },
   "outputs": [],
   "source": [
    "race_results_df = spark.read.parquet(f\"{presentation_folder_path}/race_results\")"
   ]
  },
  {
   "cell_type": "code",
   "execution_count": 0,
   "metadata": {
    "application/vnd.databricks.v1+cell": {
     "cellMetadata": {
      "byteLimit": 2048000,
      "rowLimit": 10000
     },
     "inputWidgets": {},
     "nuid": "f4a8797a-2e68-4e63-ad2e-4c2beff6dd06",
     "showTitle": false,
     "title": ""
    }
   },
   "outputs": [],
   "source": [
    "display(race_results_df)"
   ]
  },
  {
   "cell_type": "code",
   "execution_count": 0,
   "metadata": {
    "application/vnd.databricks.v1+cell": {
     "cellMetadata": {
      "byteLimit": 2048000,
      "rowLimit": 10000
     },
     "inputWidgets": {},
     "nuid": "9e0e8e3c-0976-4ad6-9a6f-e0b3cbf635c2",
     "showTitle": false,
     "title": ""
    }
   },
   "outputs": [],
   "source": [
    "demo_df = race_results_df.filter(\"race_year = 2020\")"
   ]
  },
  {
   "cell_type": "code",
   "execution_count": 0,
   "metadata": {
    "application/vnd.databricks.v1+cell": {
     "cellMetadata": {
      "byteLimit": 2048000,
      "rowLimit": 10000
     },
     "inputWidgets": {},
     "nuid": "250d2c74-63b4-4e4f-a923-efd6dafebabe",
     "showTitle": false,
     "title": ""
    }
   },
   "outputs": [],
   "source": [
    "display(demo_df)"
   ]
  },
  {
   "cell_type": "markdown",
   "metadata": {
    "application/vnd.databricks.v1+cell": {
     "cellMetadata": {},
     "inputWidgets": {},
     "nuid": "a41ce3ca-2cc6-4490-8626-01aa0154fada",
     "showTitle": false,
     "title": ""
    }
   },
   "source": [
    "#### Simple Agg Func"
   ]
  },
  {
   "cell_type": "code",
   "execution_count": 0,
   "metadata": {
    "application/vnd.databricks.v1+cell": {
     "cellMetadata": {
      "byteLimit": 2048000,
      "rowLimit": 10000
     },
     "inputWidgets": {},
     "nuid": "ff11fa16-8bf4-4e67-83d3-d709d0e8e8fa",
     "showTitle": false,
     "title": ""
    }
   },
   "outputs": [],
   "source": [
    "from pyspark.sql.functions import count, countDistinct, sum"
   ]
  },
  {
   "cell_type": "code",
   "execution_count": 0,
   "metadata": {
    "application/vnd.databricks.v1+cell": {
     "cellMetadata": {
      "byteLimit": 2048000,
      "rowLimit": 10000
     },
     "inputWidgets": {},
     "nuid": "8a6da518-4922-49de-9b80-5c6b40e5858e",
     "showTitle": false,
     "title": ""
    }
   },
   "outputs": [],
   "source": [
    "demo_df.select(count(\"*\"), countDistinct(\"race_name\")).show()"
   ]
  },
  {
   "cell_type": "code",
   "execution_count": 0,
   "metadata": {
    "application/vnd.databricks.v1+cell": {
     "cellMetadata": {
      "byteLimit": 2048000,
      "rowLimit": 10000
     },
     "inputWidgets": {},
     "nuid": "61ca95e5-4320-4a0e-a152-26afed37583f",
     "showTitle": false,
     "title": ""
    }
   },
   "outputs": [],
   "source": [
    "demo_df.filter(\"driver_name = 'Lewis Hamilton'\").select(sum(\"points\"), countDistinct(\"race_name\")) \\\n",
    "    .withColumnRenamed(\"sum(points)\", \"total_points\") \\\n",
    "    .withColumnRenamed(\"count(DISTINCT race_name)\", \"number_of_races\") \\\n",
    "    .show()"
   ]
  },
  {
   "cell_type": "markdown",
   "metadata": {
    "application/vnd.databricks.v1+cell": {
     "cellMetadata": {
      "byteLimit": 2048000,
      "rowLimit": 10000
     },
     "inputWidgets": {},
     "nuid": "a219acc0-5ed3-4de8-b772-2dfd26b432aa",
     "showTitle": false,
     "title": ""
    }
   },
   "source": [
    "#### Group By"
   ]
  },
  {
   "cell_type": "code",
   "execution_count": 0,
   "metadata": {
    "application/vnd.databricks.v1+cell": {
     "cellMetadata": {
      "byteLimit": 2048000,
      "rowLimit": 10000
     },
     "inputWidgets": {},
     "nuid": "5afbf7cd-3b04-46ba-9738-494882b39b34",
     "showTitle": false,
     "title": ""
    }
   },
   "outputs": [],
   "source": [
    "demo_df \\\n",
    "    .groupBy(\"driver_name\") \\\n",
    "    .sum(\"points\") \\\n",
    "    .countDistinct(\"race_name\") \\\n",
    "    .show()"
   ]
  },
  {
   "cell_type": "markdown",
   "metadata": {
    "application/vnd.databricks.v1+cell": {
     "cellMetadata": {
      "byteLimit": 2048000,
      "rowLimit": 10000
     },
     "inputWidgets": {},
     "nuid": "cddb5d14-c615-43d9-a471-bb702e1c51bc",
     "showTitle": false,
     "title": ""
    }
   },
   "source": [
    "- `groupBy` will return grouped data object. But the aggragate functions will only applied on grouped data object.\n",
    "  So, after using an agg. func., you will not able to apply any other agg func on it. Because after using a agg func, it will retrun a dataframe.\n",
    "- In order to tackel this you can use `agg()`, it let us to use multiple agg functions. Actually it uses the built-in agg func rather then the functions on the grouped data. "
   ]
  },
  {
   "cell_type": "code",
   "execution_count": 0,
   "metadata": {
    "application/vnd.databricks.v1+cell": {
     "cellMetadata": {
      "byteLimit": 2048000,
      "rowLimit": 10000
     },
     "inputWidgets": {},
     "nuid": "5621598e-8eca-4524-84e7-df34cd669f65",
     "showTitle": false,
     "title": ""
    }
   },
   "outputs": [],
   "source": [
    "demo_df \\\n",
    "    .groupBy(\"driver_name\") \\\n",
    "    .agg(sum(\"points\").alias(\"total_points\"), countDistinct(\"race_name\").alias(\"number_of_races\")) \\\n",
    "    .show()"
   ]
  },
  {
   "cell_type": "markdown",
   "metadata": {
    "application/vnd.databricks.v1+cell": {
     "cellMetadata": {
      "byteLimit": 2048000,
      "rowLimit": 10000
     },
     "inputWidgets": {},
     "nuid": "4edec574-caaa-4367-80a4-bc63579f3682",
     "showTitle": false,
     "title": ""
    }
   },
   "source": [
    "#### Window Functions"
   ]
  },
  {
   "cell_type": "code",
   "execution_count": 0,
   "metadata": {
    "application/vnd.databricks.v1+cell": {
     "cellMetadata": {
      "byteLimit": 2048000,
      "rowLimit": 10000
     },
     "inputWidgets": {},
     "nuid": "a615d1eb-85ce-4787-b8f7-e0cf94815934",
     "showTitle": false,
     "title": ""
    }
   },
   "outputs": [],
   "source": [
    "demo_df = race_results_df.filter(\"race_year in (2019, 2020)\")"
   ]
  },
  {
   "cell_type": "code",
   "execution_count": 0,
   "metadata": {
    "application/vnd.databricks.v1+cell": {
     "cellMetadata": {
      "byteLimit": 2048000,
      "rowLimit": 10000
     },
     "inputWidgets": {},
     "nuid": "a02643d9-7ee7-493c-9fbf-25bae59c6ad7",
     "showTitle": false,
     "title": ""
    }
   },
   "outputs": [],
   "source": [
    "demo_grouped_df = demo_df \\\n",
    "    .groupBy(\"race_year\", \"driver_name\") \\\n",
    "    .agg(sum(\"points\").alias(\"total_points\"), countDistinct(\"race_name\").alias(\"number_of_races\"))"
   ]
  },
  {
   "cell_type": "code",
   "execution_count": 0,
   "metadata": {
    "application/vnd.databricks.v1+cell": {
     "cellMetadata": {
      "byteLimit": 2048000,
      "rowLimit": 10000
     },
     "inputWidgets": {},
     "nuid": "a637925d-ea39-4832-9d96-7054a2a87ab6",
     "showTitle": false,
     "title": ""
    }
   },
   "outputs": [],
   "source": [
    "display(demo_grouped_df)"
   ]
  },
  {
   "cell_type": "markdown",
   "metadata": {
    "application/vnd.databricks.v1+cell": {
     "cellMetadata": {},
     "inputWidgets": {},
     "nuid": "a8d15aac-3394-4341-a36c-85758cd762ba",
     "showTitle": false,
     "title": ""
    }
   },
   "source": [
    "##### Step 1 - First you create Window Specification. Like how to partition in what order/\n",
    "##### Step 2 - Then you tell it, what func you want to apply to produce the output."
   ]
  },
  {
   "cell_type": "code",
   "execution_count": 0,
   "metadata": {
    "application/vnd.databricks.v1+cell": {
     "cellMetadata": {
      "byteLimit": 2048000,
      "rowLimit": 10000
     },
     "inputWidgets": {},
     "nuid": "de2b3cbf-c231-41ee-b9a3-154954a4f340",
     "showTitle": false,
     "title": ""
    }
   },
   "outputs": [],
   "source": [
    "from pyspark.sql.window import Window\n",
    "from pyspark.sql.functions import desc, rank\n",
    "\n",
    "driverRankSpec = Window.partitionBy(\"race_year\").orderBy(desc(\"total_points\"))\n",
    "demo_grouped_df.withColumn(\"rank\", rank().over(driverRankSpec)).show(100)"
   ]
  },
  {
   "cell_type": "code",
   "execution_count": 0,
   "metadata": {
    "application/vnd.databricks.v1+cell": {
     "cellMetadata": {},
     "inputWidgets": {},
     "nuid": "14d734d6-f34b-423e-8942-ec155fcadcf1",
     "showTitle": false,
     "title": ""
    }
   },
   "outputs": [],
   "source": []
  }
 ],
 "metadata": {
  "application/vnd.databricks.v1+notebook": {
   "dashboards": [],
   "language": "python",
   "notebookMetadata": {
    "pythonIndentUnit": 4
   },
   "notebookName": "3.aggregation_demo",
   "widgets": {}
  }
 },
 "nbformat": 4,
 "nbformat_minor": 0
}
