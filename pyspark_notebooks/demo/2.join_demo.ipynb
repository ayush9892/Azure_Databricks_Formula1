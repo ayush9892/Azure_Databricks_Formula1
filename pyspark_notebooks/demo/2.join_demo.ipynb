{
 "cells": [
  {
   "cell_type": "code",
   "execution_count": 0,
   "metadata": {
    "application/vnd.databricks.v1+cell": {
     "cellMetadata": {
      "byteLimit": 2048000,
      "rowLimit": 10000
     },
     "inputWidgets": {},
     "nuid": "f0d8e20a-316f-4fb0-a014-e0c569310ad8",
     "showTitle": false,
     "title": ""
    }
   },
   "outputs": [],
   "source": [
    "%run \"../includes/configuration\""
   ]
  },
  {
   "cell_type": "code",
   "execution_count": 0,
   "metadata": {
    "application/vnd.databricks.v1+cell": {
     "cellMetadata": {
      "byteLimit": 2048000,
      "rowLimit": 10000
     },
     "inputWidgets": {},
     "nuid": "ba59b46d-b141-4182-9a6a-2ef88472b204",
     "showTitle": false,
     "title": ""
    }
   },
   "outputs": [],
   "source": [
    "races_df = spark.read.parquet(f\"{processed_folder_path}/races\") \\\n",
    "    .filter(\"race_year = 2019\") \\\n",
    "    .withColumnRenamed(\"name\", \"race_name\")"
   ]
  },
  {
   "cell_type": "code",
   "execution_count": 0,
   "metadata": {
    "application/vnd.databricks.v1+cell": {
     "cellMetadata": {
      "byteLimit": 2048000,
      "rowLimit": 10000
     },
     "inputWidgets": {},
     "nuid": "f0e8ce4d-6f08-4943-8cef-600d2a9ebdf9",
     "showTitle": false,
     "title": ""
    }
   },
   "outputs": [],
   "source": [
    "display(races_df)"
   ]
  },
  {
   "cell_type": "code",
   "execution_count": 0,
   "metadata": {
    "application/vnd.databricks.v1+cell": {
     "cellMetadata": {
      "byteLimit": 2048000,
      "rowLimit": 10000
     },
     "inputWidgets": {},
     "nuid": "7fc1d783-b68b-4f54-8a00-e947bf625286",
     "showTitle": false,
     "title": ""
    }
   },
   "outputs": [],
   "source": [
    "circuits_df = spark.read.parquet(f\"{processed_folder_path}/circuits\").withColumnRenamed(\"name\", \"circuit_name\")"
   ]
  },
  {
   "cell_type": "code",
   "execution_count": 0,
   "metadata": {
    "application/vnd.databricks.v1+cell": {
     "cellMetadata": {
      "byteLimit": 2048000,
      "rowLimit": 10000
     },
     "inputWidgets": {},
     "nuid": "28b89a34-4871-42aa-8530-9d66e71eb759",
     "showTitle": false,
     "title": ""
    }
   },
   "outputs": [],
   "source": [
    "display(circuits_df)"
   ]
  },
  {
   "cell_type": "markdown",
   "metadata": {
    "application/vnd.databricks.v1+cell": {
     "cellMetadata": {},
     "inputWidgets": {},
     "nuid": "a2c67355-4a3e-4883-afc2-00600369b3c5",
     "showTitle": false,
     "title": ""
    }
   },
   "source": [
    "### Join Types"
   ]
  },
  {
   "cell_type": "code",
   "execution_count": 0,
   "metadata": {
    "application/vnd.databricks.v1+cell": {
     "cellMetadata": {
      "byteLimit": 2048000,
      "rowLimit": 10000
     },
     "inputWidgets": {},
     "nuid": "5d3508b6-e595-4ac6-882e-a9d3eaf6f9ac",
     "showTitle": false,
     "title": ""
    }
   },
   "outputs": [],
   "source": [
    "race_circuits_df = circuits_df.join(races_df, races_df.circuit_id == circuits_df.circuit_id, \"inner\") \\\n",
    "    .select(circuits_df.circuit_name, circuits_df.country, circuits_df.location, races_df.race_name, races_df.round)\n",
    "\n",
    "# inner -> is by default, so if you don't write it can automatically apply. \n",
    "# left -> for Left Outer Join\n",
    "# right -> for Right Outer Join\n",
    "# full -> for Full Outer Join\n",
    "# semi -> it is similar to inner join but, it select the column only from the left dataframe\n",
    "# anti -> it is opposite to semi join. It gives you everything on the left dataframe which is not found on the right dataframe."
   ]
  },
  {
   "cell_type": "code",
   "execution_count": 0,
   "metadata": {
    "application/vnd.databricks.v1+cell": {
     "cellMetadata": {},
     "inputWidgets": {},
     "nuid": "7af0fc7d-42f4-41ef-929a-ac196a314332",
     "showTitle": false,
     "title": ""
    }
   },
   "outputs": [],
   "source": [
    "# It gives you cartesian product\n",
    "race_circuits_cross_df = races_df.crossJoin(circuits_df)"
   ]
  },
  {
   "cell_type": "code",
   "execution_count": 0,
   "metadata": {
    "application/vnd.databricks.v1+cell": {
     "cellMetadata": {
      "byteLimit": 2048000,
      "rowLimit": 10000
     },
     "inputWidgets": {},
     "nuid": "71e96247-4c72-45a2-a3d5-bdfe5405883b",
     "showTitle": false,
     "title": ""
    }
   },
   "outputs": [],
   "source": [
    "display(race_circuits_df)"
   ]
  },
  {
   "cell_type": "code",
   "execution_count": 0,
   "metadata": {
    "application/vnd.databricks.v1+cell": {
     "cellMetadata": {},
     "inputWidgets": {},
     "nuid": "1cf71a3e-90a7-41fa-8707-cb88e3078283",
     "showTitle": false,
     "title": ""
    }
   },
   "outputs": [],
   "source": [
    "display(race_circuits_cross_df)"
   ]
  }
 ],
 "metadata": {
  "application/vnd.databricks.v1+notebook": {
   "dashboards": [],
   "language": "python",
   "notebookMetadata": {
    "pythonIndentUnit": 4
   },
   "notebookName": "2.join_demo",
   "widgets": {}
  }
 },
 "nbformat": 4,
 "nbformat_minor": 0
}
