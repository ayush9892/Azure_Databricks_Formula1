{
 "cells": [
  {
   "cell_type": "code",
   "execution_count": 0,
   "metadata": {
    "application/vnd.databricks.v1+cell": {
     "cellMetadata": {
      "byteLimit": 2048000,
      "implicitDf": true,
      "rowLimit": 10000
     },
     "inputWidgets": {},
     "nuid": "8647dd47-a29c-4a2f-a3f2-228bb50fb40f",
     "showTitle": false,
     "title": ""
    }
   },
   "outputs": [],
   "source": [
    "%sql\n",
    "SELECT * FROM global_temp.gv_race_results;"
   ]
  },
  {
   "cell_type": "code",
   "execution_count": 0,
   "metadata": {
    "application/vnd.databricks.v1+cell": {
     "cellMetadata": {},
     "inputWidgets": {},
     "nuid": "77e2dd58-20d2-41d9-8ca4-5d1635469a5b",
     "showTitle": false,
     "title": ""
    }
   },
   "outputs": [],
   "source": [
    "# Databricks notebook source\n",
    "# MAGIC %run \"../includes/configuration\"\n",
    "\n",
    "# COMMAND ----------\n",
    "\n",
    "race_df = spark.read.parquet(f\"{processed_folder_path}/races\")\n",
    "\n",
    "# COMMAND ----------\n",
    "\n",
    "display(race_df)\n",
    "\n",
    "# COMMAND ----------\n",
    "\n",
    "# MAGIC %md\n",
    "# MAGIC #### Spark gives you \"where\" as an alias for \"filter\".\n",
    "# MAGIC ##### - You can also write sql like where condition.\n",
    "\n",
    "# COMMAND ----------\n",
    "\n",
    "races_filtered_df = race_df.where(\"race_year = 2019 and round <= 5\")\n",
    "\n",
    "# COMMAND ----------\n",
    "\n",
    "from pyspark.sql.functions import col\n",
    "\n",
    "# COMMAND ----------\n",
    "\n",
    "races_filtered_df = race_df.filter((col(\"race_year\") == 2021) & (col(\"round\") <= 5))\n",
    "\n",
    "# COMMAND ----------\n",
    "\n",
    "display(races_filtered_df)\n",
    "\n",
    "# COMMAND ----------\n",
    "\n"
   ]
  }
 ],
 "metadata": {
  "application/vnd.databricks.v1+notebook": {
   "dashboards": [],
   "language": "python",
   "notebookMetadata": {
    "mostRecentlyExecutedCommandWithImplicitDF": {
     "commandId": 2214782895882464,
     "dataframes": [
      "_sqldf"
     ]
    },
    "pythonIndentUnit": 4
   },
   "notebookName": "5.sql_temp_view_demo",
   "widgets": {}
  }
 },
 "nbformat": 4,
 "nbformat_minor": 0
}
